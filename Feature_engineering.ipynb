{
  "nbformat": 4,
  "nbformat_minor": 0,
  "metadata": {
    "colab": {
      "provenance": [],
      "collapsed_sections": [
        "HPQviDmNtta8"
      ],
      "toc_visible": true
    },
    "kernelspec": {
      "name": "python3",
      "display_name": "Python 3"
    },
    "language_info": {
      "name": "python"
    }
  },
  "cells": [
    {
      "cell_type": "markdown",
      "metadata": {
        "id": "gtegFEJ83DN2"
      },
      "source": [
        "# Feature Engineering with Python Project"
      ]
    },
    {
      "cell_type": "markdown",
      "metadata": {
        "id": "kLG2VTrnTvYL"
      },
      "source": [
        "## 1. Defining the Question"
      ]
    },
    {
      "cell_type": "markdown",
      "metadata": {
        "id": "XecOwPNorl2W"
      },
      "source": [
        "### a) Prediction question"
      ]
    },
    {
      "cell_type": "markdown",
      "metadata": {
        "id": "ym7-i7auXZPg"
      },
      "source": [
        "> predicting the estimated time of delivery of orders, from the point of driver pickup to the point of arrival at the final destination for Sendy"
      ]
    },
    {
      "cell_type": "markdown",
      "metadata": {
        "id": "J4wfHZwQrs-t"
      },
      "source": [
        "### b) Defining the Metric for Success"
      ]
    },
    {
      "cell_type": "markdown",
      "metadata": {
        "id": "IuQcoaLFGjkH"
      },
      "source": [
        ">  Build a model that predicts an accurate delivery time, from picking up a package arriving at the final\n",
        "destination. An accurate arrival time prediction will help all business to improve their logistics and communicate the accurate time their time to their customers. "
      ]
    },
    {
      "cell_type": "markdown",
      "metadata": {
        "id": "a9BPYqunry97"
      },
      "source": [
        "### c) Understanding the context "
      ]
    },
    {
      "cell_type": "markdown",
      "metadata": {
        "id": "2jeqV9VPG1tg"
      },
      "source": [
        "> Logistics in Sub-Saharan Africa increases the cost of manufactured goods by up to 320%; while in Europe, it only accounts for up to 90% of the manufacturing cost. Sendy is a business-to-business platform established in 2014, to enable businesses of all types and sizes to transport goods more efficiently across East Africa. The company is headquartered in Kenya with a team of more than 100 staff, focused on building practical\n",
        "solutions for Africa’s dynamic transportation needs, from developing apps and web solutions to providing dedicated support for goods on the move."
      ]
    },
    {
      "cell_type": "markdown",
      "source": [],
      "metadata": {
        "id": "CK_k8mne7p4v"
      }
    },
    {
      "cell_type": "markdown",
      "metadata": {
        "id": "7KMRBJ7zr9HD"
      },
      "source": [
        "### d) Recording the Experimental Design"
      ]
    },
    {
      "cell_type": "markdown",
      "metadata": {
        "id": "YG0dB0_PG5_i"
      },
      "source": [
        "# steps/approach\n",
        "\n",
        "* Data Importation\n",
        "* Data Exploration\n",
        "* Data Cleaning\n",
        "* Data Analysis (Univariate and Bivariate)\n",
        "* Data Preparation\n",
        "* Data Modeling\n",
        "* Model improvement using feature improvement\n",
        "* Model Evaluation\n",
        "* Challenging your Solution\n",
        "* Recommendations\n",
        "\n",
        "\n",
        "\n",
        "\n",
        "\n",
        "\n",
        "\n",
        "\n",
        "\n"
      ]
    },
    {
      "cell_type": "markdown",
      "metadata": {
        "id": "zSGyg6kWsBUl"
      },
      "source": [
        "### e) Data Relevance"
      ]
    },
    {
      "cell_type": "markdown",
      "metadata": {
        "id": "UogUWzkTHJ9D"
      },
      "source": [
        "\n",
        "> The dataset is adequate for the analysis\n",
        "\n"
      ]
    },
    {
      "cell_type": "markdown",
      "metadata": {
        "id": "iUNbvIvnT7ep"
      },
      "source": [
        "## 2. Reading the Data"
      ]
    },
    {
      "cell_type": "code",
      "metadata": {
        "id": "juxif2Sx8Z5_"
      },
      "source": [
        "# Loading libraries\n",
        "# ---\n",
        "# \n",
        "import pandas as pd\n",
        "import numpy as np\n",
        "import matplotlib.pyplot as plt    "
      ],
      "execution_count": 1,
      "outputs": []
    },
    {
      "cell_type": "code",
      "metadata": {
        "id": "XJn2KjW-WMlG",
        "colab": {
          "base_uri": "https://localhost:8080/",
          "height": 456
        },
        "outputId": "223b6a4e-f3b9-418c-b738-180fac11798f"
      },
      "source": [
        "# Loading the dataset\n",
        "\n",
        "df = pd.read_csv('https://bit.ly/3deaKEM')\n",
        "df.head()"
      ],
      "execution_count": 2,
      "outputs": [
        {
          "output_type": "execute_result",
          "data": {
            "text/plain": [
              "         Order No       User Id Vehicle Type  Platform Type  \\\n",
              "0   Order_No_4211   User_Id_633         Bike              3   \n",
              "1  Order_No_25375  User_Id_2285         Bike              3   \n",
              "2   Order_No_1899   User_Id_265         Bike              3   \n",
              "3   Order_No_9336  User_Id_1402         Bike              3   \n",
              "4  Order_No_27883  User_Id_1737         Bike              1   \n",
              "\n",
              "  Personal or Business  Placement - Day of Month  \\\n",
              "0             Business                         9   \n",
              "1             Personal                        12   \n",
              "2             Business                        30   \n",
              "3             Business                        15   \n",
              "4             Personal                        13   \n",
              "\n",
              "   Placement - Weekday (Mo = 1) Placement - Time  Confirmation - Day of Month  \\\n",
              "0                             5       9:35:46 AM                            9   \n",
              "1                             5      11:16:16 AM                           12   \n",
              "2                             2      12:39:25 PM                           30   \n",
              "3                             5       9:25:34 AM                           15   \n",
              "4                             1       9:55:18 AM                           13   \n",
              "\n",
              "   Confirmation - Weekday (Mo = 1)  ... Arrival at Destination - Time  \\\n",
              "0                                5  ...                   10:39:55 AM   \n",
              "1                                5  ...                   12:17:22 PM   \n",
              "2                                2  ...                    1:00:38 PM   \n",
              "3                                5  ...                   10:05:27 AM   \n",
              "4                                1  ...                   10:25:37 AM   \n",
              "\n",
              "   Distance (KM)  Temperature Precipitation in millimeters  Pickup Lat  \\\n",
              "0              4         20.4                          NaN   -1.317755   \n",
              "1             16         26.4                          NaN   -1.351453   \n",
              "2              3          NaN                          NaN   -1.308284   \n",
              "3              9         19.2                          NaN   -1.281301   \n",
              "4              9         15.4                          NaN   -1.266597   \n",
              "\n",
              "   Pickup Long Destination Lat  Destination Long      Rider Id  \\\n",
              "0    36.830370       -1.300406         36.829741  Rider_Id_432   \n",
              "1    36.899315       -1.295004         36.814358  Rider_Id_856   \n",
              "2    36.843419       -1.300921         36.828195  Rider_Id_155   \n",
              "3    36.832396       -1.257147         36.795063  Rider_Id_855   \n",
              "4    36.792118       -1.295041         36.809817  Rider_Id_770   \n",
              "\n",
              "  Time from Pickup to Arrival  \n",
              "0                         745  \n",
              "1                        1993  \n",
              "2                         455  \n",
              "3                        1341  \n",
              "4                        1214  \n",
              "\n",
              "[5 rows x 29 columns]"
            ],
            "text/html": [
              "\n",
              "  <div id=\"df-37d22d70-1186-4306-8f45-82982d88b851\">\n",
              "    <div class=\"colab-df-container\">\n",
              "      <div>\n",
              "<style scoped>\n",
              "    .dataframe tbody tr th:only-of-type {\n",
              "        vertical-align: middle;\n",
              "    }\n",
              "\n",
              "    .dataframe tbody tr th {\n",
              "        vertical-align: top;\n",
              "    }\n",
              "\n",
              "    .dataframe thead th {\n",
              "        text-align: right;\n",
              "    }\n",
              "</style>\n",
              "<table border=\"1\" class=\"dataframe\">\n",
              "  <thead>\n",
              "    <tr style=\"text-align: right;\">\n",
              "      <th></th>\n",
              "      <th>Order No</th>\n",
              "      <th>User Id</th>\n",
              "      <th>Vehicle Type</th>\n",
              "      <th>Platform Type</th>\n",
              "      <th>Personal or Business</th>\n",
              "      <th>Placement - Day of Month</th>\n",
              "      <th>Placement - Weekday (Mo = 1)</th>\n",
              "      <th>Placement - Time</th>\n",
              "      <th>Confirmation - Day of Month</th>\n",
              "      <th>Confirmation - Weekday (Mo = 1)</th>\n",
              "      <th>...</th>\n",
              "      <th>Arrival at Destination - Time</th>\n",
              "      <th>Distance (KM)</th>\n",
              "      <th>Temperature</th>\n",
              "      <th>Precipitation in millimeters</th>\n",
              "      <th>Pickup Lat</th>\n",
              "      <th>Pickup Long</th>\n",
              "      <th>Destination Lat</th>\n",
              "      <th>Destination Long</th>\n",
              "      <th>Rider Id</th>\n",
              "      <th>Time from Pickup to Arrival</th>\n",
              "    </tr>\n",
              "  </thead>\n",
              "  <tbody>\n",
              "    <tr>\n",
              "      <th>0</th>\n",
              "      <td>Order_No_4211</td>\n",
              "      <td>User_Id_633</td>\n",
              "      <td>Bike</td>\n",
              "      <td>3</td>\n",
              "      <td>Business</td>\n",
              "      <td>9</td>\n",
              "      <td>5</td>\n",
              "      <td>9:35:46 AM</td>\n",
              "      <td>9</td>\n",
              "      <td>5</td>\n",
              "      <td>...</td>\n",
              "      <td>10:39:55 AM</td>\n",
              "      <td>4</td>\n",
              "      <td>20.4</td>\n",
              "      <td>NaN</td>\n",
              "      <td>-1.317755</td>\n",
              "      <td>36.830370</td>\n",
              "      <td>-1.300406</td>\n",
              "      <td>36.829741</td>\n",
              "      <td>Rider_Id_432</td>\n",
              "      <td>745</td>\n",
              "    </tr>\n",
              "    <tr>\n",
              "      <th>1</th>\n",
              "      <td>Order_No_25375</td>\n",
              "      <td>User_Id_2285</td>\n",
              "      <td>Bike</td>\n",
              "      <td>3</td>\n",
              "      <td>Personal</td>\n",
              "      <td>12</td>\n",
              "      <td>5</td>\n",
              "      <td>11:16:16 AM</td>\n",
              "      <td>12</td>\n",
              "      <td>5</td>\n",
              "      <td>...</td>\n",
              "      <td>12:17:22 PM</td>\n",
              "      <td>16</td>\n",
              "      <td>26.4</td>\n",
              "      <td>NaN</td>\n",
              "      <td>-1.351453</td>\n",
              "      <td>36.899315</td>\n",
              "      <td>-1.295004</td>\n",
              "      <td>36.814358</td>\n",
              "      <td>Rider_Id_856</td>\n",
              "      <td>1993</td>\n",
              "    </tr>\n",
              "    <tr>\n",
              "      <th>2</th>\n",
              "      <td>Order_No_1899</td>\n",
              "      <td>User_Id_265</td>\n",
              "      <td>Bike</td>\n",
              "      <td>3</td>\n",
              "      <td>Business</td>\n",
              "      <td>30</td>\n",
              "      <td>2</td>\n",
              "      <td>12:39:25 PM</td>\n",
              "      <td>30</td>\n",
              "      <td>2</td>\n",
              "      <td>...</td>\n",
              "      <td>1:00:38 PM</td>\n",
              "      <td>3</td>\n",
              "      <td>NaN</td>\n",
              "      <td>NaN</td>\n",
              "      <td>-1.308284</td>\n",
              "      <td>36.843419</td>\n",
              "      <td>-1.300921</td>\n",
              "      <td>36.828195</td>\n",
              "      <td>Rider_Id_155</td>\n",
              "      <td>455</td>\n",
              "    </tr>\n",
              "    <tr>\n",
              "      <th>3</th>\n",
              "      <td>Order_No_9336</td>\n",
              "      <td>User_Id_1402</td>\n",
              "      <td>Bike</td>\n",
              "      <td>3</td>\n",
              "      <td>Business</td>\n",
              "      <td>15</td>\n",
              "      <td>5</td>\n",
              "      <td>9:25:34 AM</td>\n",
              "      <td>15</td>\n",
              "      <td>5</td>\n",
              "      <td>...</td>\n",
              "      <td>10:05:27 AM</td>\n",
              "      <td>9</td>\n",
              "      <td>19.2</td>\n",
              "      <td>NaN</td>\n",
              "      <td>-1.281301</td>\n",
              "      <td>36.832396</td>\n",
              "      <td>-1.257147</td>\n",
              "      <td>36.795063</td>\n",
              "      <td>Rider_Id_855</td>\n",
              "      <td>1341</td>\n",
              "    </tr>\n",
              "    <tr>\n",
              "      <th>4</th>\n",
              "      <td>Order_No_27883</td>\n",
              "      <td>User_Id_1737</td>\n",
              "      <td>Bike</td>\n",
              "      <td>1</td>\n",
              "      <td>Personal</td>\n",
              "      <td>13</td>\n",
              "      <td>1</td>\n",
              "      <td>9:55:18 AM</td>\n",
              "      <td>13</td>\n",
              "      <td>1</td>\n",
              "      <td>...</td>\n",
              "      <td>10:25:37 AM</td>\n",
              "      <td>9</td>\n",
              "      <td>15.4</td>\n",
              "      <td>NaN</td>\n",
              "      <td>-1.266597</td>\n",
              "      <td>36.792118</td>\n",
              "      <td>-1.295041</td>\n",
              "      <td>36.809817</td>\n",
              "      <td>Rider_Id_770</td>\n",
              "      <td>1214</td>\n",
              "    </tr>\n",
              "  </tbody>\n",
              "</table>\n",
              "<p>5 rows × 29 columns</p>\n",
              "</div>\n",
              "      <button class=\"colab-df-convert\" onclick=\"convertToInteractive('df-37d22d70-1186-4306-8f45-82982d88b851')\"\n",
              "              title=\"Convert this dataframe to an interactive table.\"\n",
              "              style=\"display:none;\">\n",
              "        \n",
              "  <svg xmlns=\"http://www.w3.org/2000/svg\" height=\"24px\"viewBox=\"0 0 24 24\"\n",
              "       width=\"24px\">\n",
              "    <path d=\"M0 0h24v24H0V0z\" fill=\"none\"/>\n",
              "    <path d=\"M18.56 5.44l.94 2.06.94-2.06 2.06-.94-2.06-.94-.94-2.06-.94 2.06-2.06.94zm-11 1L8.5 8.5l.94-2.06 2.06-.94-2.06-.94L8.5 2.5l-.94 2.06-2.06.94zm10 10l.94 2.06.94-2.06 2.06-.94-2.06-.94-.94-2.06-.94 2.06-2.06.94z\"/><path d=\"M17.41 7.96l-1.37-1.37c-.4-.4-.92-.59-1.43-.59-.52 0-1.04.2-1.43.59L10.3 9.45l-7.72 7.72c-.78.78-.78 2.05 0 2.83L4 21.41c.39.39.9.59 1.41.59.51 0 1.02-.2 1.41-.59l7.78-7.78 2.81-2.81c.8-.78.8-2.07 0-2.86zM5.41 20L4 18.59l7.72-7.72 1.47 1.35L5.41 20z\"/>\n",
              "  </svg>\n",
              "      </button>\n",
              "      \n",
              "  <style>\n",
              "    .colab-df-container {\n",
              "      display:flex;\n",
              "      flex-wrap:wrap;\n",
              "      gap: 12px;\n",
              "    }\n",
              "\n",
              "    .colab-df-convert {\n",
              "      background-color: #E8F0FE;\n",
              "      border: none;\n",
              "      border-radius: 50%;\n",
              "      cursor: pointer;\n",
              "      display: none;\n",
              "      fill: #1967D2;\n",
              "      height: 32px;\n",
              "      padding: 0 0 0 0;\n",
              "      width: 32px;\n",
              "    }\n",
              "\n",
              "    .colab-df-convert:hover {\n",
              "      background-color: #E2EBFA;\n",
              "      box-shadow: 0px 1px 2px rgba(60, 64, 67, 0.3), 0px 1px 3px 1px rgba(60, 64, 67, 0.15);\n",
              "      fill: #174EA6;\n",
              "    }\n",
              "\n",
              "    [theme=dark] .colab-df-convert {\n",
              "      background-color: #3B4455;\n",
              "      fill: #D2E3FC;\n",
              "    }\n",
              "\n",
              "    [theme=dark] .colab-df-convert:hover {\n",
              "      background-color: #434B5C;\n",
              "      box-shadow: 0px 1px 3px 1px rgba(0, 0, 0, 0.15);\n",
              "      filter: drop-shadow(0px 1px 2px rgba(0, 0, 0, 0.3));\n",
              "      fill: #FFFFFF;\n",
              "    }\n",
              "  </style>\n",
              "\n",
              "      <script>\n",
              "        const buttonEl =\n",
              "          document.querySelector('#df-37d22d70-1186-4306-8f45-82982d88b851 button.colab-df-convert');\n",
              "        buttonEl.style.display =\n",
              "          google.colab.kernel.accessAllowed ? 'block' : 'none';\n",
              "\n",
              "        async function convertToInteractive(key) {\n",
              "          const element = document.querySelector('#df-37d22d70-1186-4306-8f45-82982d88b851');\n",
              "          const dataTable =\n",
              "            await google.colab.kernel.invokeFunction('convertToInteractive',\n",
              "                                                     [key], {});\n",
              "          if (!dataTable) return;\n",
              "\n",
              "          const docLinkHtml = 'Like what you see? Visit the ' +\n",
              "            '<a target=\"_blank\" href=https://colab.research.google.com/notebooks/data_table.ipynb>data table notebook</a>'\n",
              "            + ' to learn more about interactive tables.';\n",
              "          element.innerHTML = '';\n",
              "          dataTable['output_type'] = 'display_data';\n",
              "          await google.colab.output.renderOutput(dataTable, element);\n",
              "          const docLink = document.createElement('div');\n",
              "          docLink.innerHTML = docLinkHtml;\n",
              "          element.appendChild(docLink);\n",
              "        }\n",
              "      </script>\n",
              "    </div>\n",
              "  </div>\n",
              "  "
            ]
          },
          "metadata": {},
          "execution_count": 2
        }
      ]
    },
    {
      "cell_type": "code",
      "metadata": {
        "id": "A95RQzFm8quY",
        "colab": {
          "base_uri": "https://localhost:8080/"
        },
        "outputId": "0afd23f6-0ca7-4aaf-859d-f5060c0b9bac"
      },
      "source": [
        "# Determining the size \n",
        "# ---\n",
        "#\n",
        "df.shape"
      ],
      "execution_count": 3,
      "outputs": [
        {
          "output_type": "execute_result",
          "data": {
            "text/plain": [
              "(21201, 29)"
            ]
          },
          "metadata": {},
          "execution_count": 3
        }
      ]
    },
    {
      "cell_type": "code",
      "metadata": {
        "id": "XDHj_5xu8w3a",
        "colab": {
          "base_uri": "https://localhost:8080/"
        },
        "outputId": "48f69dff-7dc2-4a62-a5bc-52dc4c1c4b1b"
      },
      "source": [
        "# Checking the datatypes\n",
        "# ---\n",
        "# \n",
        "df.dtypes"
      ],
      "execution_count": 4,
      "outputs": [
        {
          "output_type": "execute_result",
          "data": {
            "text/plain": [
              "Order No                                      object\n",
              "User Id                                       object\n",
              "Vehicle Type                                  object\n",
              "Platform Type                                  int64\n",
              "Personal or Business                          object\n",
              "Placement - Day of Month                       int64\n",
              "Placement - Weekday (Mo = 1)                   int64\n",
              "Placement - Time                              object\n",
              "Confirmation - Day of Month                    int64\n",
              "Confirmation - Weekday (Mo = 1)                int64\n",
              "Confirmation - Time                           object\n",
              "Arrival at Pickup - Day of Month               int64\n",
              "Arrival at Pickup - Weekday (Mo = 1)           int64\n",
              "Arrival at Pickup - Time                      object\n",
              "Pickup - Day of Month                          int64\n",
              "Pickup - Weekday (Mo = 1)                      int64\n",
              "Pickup - Time                                 object\n",
              "Arrival at Destination - Day of Month          int64\n",
              "Arrival at Destination - Weekday (Mo = 1)      int64\n",
              "Arrival at Destination - Time                 object\n",
              "Distance (KM)                                  int64\n",
              "Temperature                                  float64\n",
              "Precipitation in millimeters                 float64\n",
              "Pickup Lat                                   float64\n",
              "Pickup Long                                  float64\n",
              "Destination Lat                              float64\n",
              "Destination Long                             float64\n",
              "Rider Id                                      object\n",
              "Time from Pickup to Arrival                    int64\n",
              "dtype: object"
            ]
          },
          "metadata": {},
          "execution_count": 4
        }
      ]
    },
    {
      "cell_type": "code",
      "source": [
        "#check the variance of the variable values\n",
        "df.nunique()"
      ],
      "metadata": {
        "colab": {
          "base_uri": "https://localhost:8080/"
        },
        "id": "lW1ydfljJM2o",
        "outputId": "d490c24b-092e-4e95-ea6b-c926b89119b8"
      },
      "execution_count": 5,
      "outputs": [
        {
          "output_type": "execute_result",
          "data": {
            "text/plain": [
              "Order No                                     21201\n",
              "User Id                                       3186\n",
              "Vehicle Type                                     1\n",
              "Platform Type                                    4\n",
              "Personal or Business                             2\n",
              "Placement - Day of Month                        31\n",
              "Placement - Weekday (Mo = 1)                     7\n",
              "Placement - Time                             15686\n",
              "Confirmation - Day of Month                     31\n",
              "Confirmation - Weekday (Mo = 1)                  7\n",
              "Confirmation - Time                          15742\n",
              "Arrival at Pickup - Day of Month                31\n",
              "Arrival at Pickup - Weekday (Mo = 1)             7\n",
              "Arrival at Pickup - Time                     15767\n",
              "Pickup - Day of Month                           31\n",
              "Pickup - Weekday (Mo = 1)                        7\n",
              "Pickup - Time                                15690\n",
              "Arrival at Destination - Day of Month           31\n",
              "Arrival at Destination - Weekday (Mo = 1)        7\n",
              "Arrival at Destination - Time                15725\n",
              "Distance (KM)                                   45\n",
              "Temperature                                    188\n",
              "Precipitation in millimeters                    54\n",
              "Pickup Lat                                    3666\n",
              "Pickup Long                                   3656\n",
              "Destination Lat                               5302\n",
              "Destination Long                              5267\n",
              "Rider Id                                       924\n",
              "Time from Pickup to Arrival                   4067\n",
              "dtype: int64"
            ]
          },
          "metadata": {},
          "execution_count": 5
        }
      ]
    },
    {
      "cell_type": "code",
      "source": [
        "#check for null values\n",
        "df.isnull().sum() #temperature and precipation "
      ],
      "metadata": {
        "colab": {
          "base_uri": "https://localhost:8080/"
        },
        "id": "neKNC0KfLlMz",
        "outputId": "073df596-3a72-4c48-9c27-ec0d8a271d6e"
      },
      "execution_count": 6,
      "outputs": [
        {
          "output_type": "execute_result",
          "data": {
            "text/plain": [
              "Order No                                         0\n",
              "User Id                                          0\n",
              "Vehicle Type                                     0\n",
              "Platform Type                                    0\n",
              "Personal or Business                             0\n",
              "Placement - Day of Month                         0\n",
              "Placement - Weekday (Mo = 1)                     0\n",
              "Placement - Time                                 0\n",
              "Confirmation - Day of Month                      0\n",
              "Confirmation - Weekday (Mo = 1)                  0\n",
              "Confirmation - Time                              0\n",
              "Arrival at Pickup - Day of Month                 0\n",
              "Arrival at Pickup - Weekday (Mo = 1)             0\n",
              "Arrival at Pickup - Time                         0\n",
              "Pickup - Day of Month                            0\n",
              "Pickup - Weekday (Mo = 1)                        0\n",
              "Pickup - Time                                    0\n",
              "Arrival at Destination - Day of Month            0\n",
              "Arrival at Destination - Weekday (Mo = 1)        0\n",
              "Arrival at Destination - Time                    0\n",
              "Distance (KM)                                    0\n",
              "Temperature                                   4366\n",
              "Precipitation in millimeters                 20649\n",
              "Pickup Lat                                       0\n",
              "Pickup Long                                      0\n",
              "Destination Lat                                  0\n",
              "Destination Long                                 0\n",
              "Rider Id                                         0\n",
              "Time from Pickup to Arrival                      0\n",
              "dtype: int64"
            ]
          },
          "metadata": {},
          "execution_count": 6
        }
      ]
    },
    {
      "cell_type": "code",
      "metadata": {
        "id": "VxQQxSSq88II",
        "colab": {
          "base_uri": "https://localhost:8080/",
          "height": 416
        },
        "outputId": "27a09126-ffae-4e15-e3e7-fa9835027b77"
      },
      "source": [
        "# Statistical summary\n",
        "# ---\n",
        "#\n",
        "df.describe()"
      ],
      "execution_count": 7,
      "outputs": [
        {
          "output_type": "execute_result",
          "data": {
            "text/plain": [
              "       Platform Type  Placement - Day of Month  Placement - Weekday (Mo = 1)  \\\n",
              "count   21201.000000              21201.000000                  21201.000000   \n",
              "mean        2.752182                 15.653696                      3.240083   \n",
              "std         0.625178                  8.798916                      1.567295   \n",
              "min         1.000000                  1.000000                      1.000000   \n",
              "25%         3.000000                  8.000000                      2.000000   \n",
              "50%         3.000000                 15.000000                      3.000000   \n",
              "75%         3.000000                 23.000000                      5.000000   \n",
              "max         4.000000                 31.000000                      7.000000   \n",
              "\n",
              "       Confirmation - Day of Month  Confirmation - Weekday (Mo = 1)  \\\n",
              "count                 21201.000000                     21201.000000   \n",
              "mean                     15.653837                         3.240225   \n",
              "std                       8.798886                         1.567228   \n",
              "min                       1.000000                         1.000000   \n",
              "25%                       8.000000                         2.000000   \n",
              "50%                      15.000000                         3.000000   \n",
              "75%                      23.000000                         5.000000   \n",
              "max                      31.000000                         7.000000   \n",
              "\n",
              "       Arrival at Pickup - Day of Month  Arrival at Pickup - Weekday (Mo = 1)  \\\n",
              "count                      21201.000000                          21201.000000   \n",
              "mean                          15.653837                              3.240225   \n",
              "std                            8.798886                              1.567228   \n",
              "min                            1.000000                              1.000000   \n",
              "25%                            8.000000                              2.000000   \n",
              "50%                           15.000000                              3.000000   \n",
              "75%                           23.000000                              5.000000   \n",
              "max                           31.000000                              7.000000   \n",
              "\n",
              "       Pickup - Day of Month  Pickup - Weekday (Mo = 1)  \\\n",
              "count           21201.000000               21201.000000   \n",
              "mean               15.653837                   3.240225   \n",
              "std                 8.798886                   1.567228   \n",
              "min                 1.000000                   1.000000   \n",
              "25%                 8.000000                   2.000000   \n",
              "50%                15.000000                   3.000000   \n",
              "75%                23.000000                   5.000000   \n",
              "max                31.000000                   7.000000   \n",
              "\n",
              "       Arrival at Destination - Day of Month  \\\n",
              "count                           21201.000000   \n",
              "mean                               15.653837   \n",
              "std                                 8.798886   \n",
              "min                                 1.000000   \n",
              "25%                                 8.000000   \n",
              "50%                                15.000000   \n",
              "75%                                23.000000   \n",
              "max                                31.000000   \n",
              "\n",
              "       Arrival at Destination - Weekday (Mo = 1)  Distance (KM)   Temperature  \\\n",
              "count                               21201.000000   21201.000000  16835.000000   \n",
              "mean                                    3.240225       9.506533     23.258889   \n",
              "std                                     1.567228       5.668963      3.615768   \n",
              "min                                     1.000000       1.000000     11.200000   \n",
              "25%                                     2.000000       5.000000     20.600000   \n",
              "50%                                     3.000000       8.000000     23.500000   \n",
              "75%                                     5.000000      13.000000     26.000000   \n",
              "max                                     7.000000      49.000000     32.100000   \n",
              "\n",
              "       Precipitation in millimeters    Pickup Lat   Pickup Long  \\\n",
              "count                    552.000000  21201.000000  21201.000000   \n",
              "mean                       7.905797     -1.281470     36.811264   \n",
              "std                       17.089971      0.030507      0.037473   \n",
              "min                        0.100000     -1.438302     36.653621   \n",
              "25%                        1.075000     -1.300921     36.784605   \n",
              "50%                        2.900000     -1.279395     36.807040   \n",
              "75%                        4.900000     -1.257147     36.829741   \n",
              "max                       99.100000     -1.147170     36.991046   \n",
              "\n",
              "       Destination Lat  Destination Long  Time from Pickup to Arrival  \n",
              "count     21201.000000      21201.000000                 21201.000000  \n",
              "mean         -1.282581         36.811220                  1556.920947  \n",
              "std           0.034824          0.044721                   987.270788  \n",
              "min          -1.430298         36.606594                     1.000000  \n",
              "25%          -1.301201         36.785661                   882.000000  \n",
              "50%          -1.284382         36.808002                  1369.000000  \n",
              "75%          -1.261177         36.829477                  2040.000000  \n",
              "max          -1.030225         37.016779                  7883.000000  "
            ],
            "text/html": [
              "\n",
              "  <div id=\"df-b14c9c78-975d-4d7e-9194-21df8e81edbc\">\n",
              "    <div class=\"colab-df-container\">\n",
              "      <div>\n",
              "<style scoped>\n",
              "    .dataframe tbody tr th:only-of-type {\n",
              "        vertical-align: middle;\n",
              "    }\n",
              "\n",
              "    .dataframe tbody tr th {\n",
              "        vertical-align: top;\n",
              "    }\n",
              "\n",
              "    .dataframe thead th {\n",
              "        text-align: right;\n",
              "    }\n",
              "</style>\n",
              "<table border=\"1\" class=\"dataframe\">\n",
              "  <thead>\n",
              "    <tr style=\"text-align: right;\">\n",
              "      <th></th>\n",
              "      <th>Platform Type</th>\n",
              "      <th>Placement - Day of Month</th>\n",
              "      <th>Placement - Weekday (Mo = 1)</th>\n",
              "      <th>Confirmation - Day of Month</th>\n",
              "      <th>Confirmation - Weekday (Mo = 1)</th>\n",
              "      <th>Arrival at Pickup - Day of Month</th>\n",
              "      <th>Arrival at Pickup - Weekday (Mo = 1)</th>\n",
              "      <th>Pickup - Day of Month</th>\n",
              "      <th>Pickup - Weekday (Mo = 1)</th>\n",
              "      <th>Arrival at Destination - Day of Month</th>\n",
              "      <th>Arrival at Destination - Weekday (Mo = 1)</th>\n",
              "      <th>Distance (KM)</th>\n",
              "      <th>Temperature</th>\n",
              "      <th>Precipitation in millimeters</th>\n",
              "      <th>Pickup Lat</th>\n",
              "      <th>Pickup Long</th>\n",
              "      <th>Destination Lat</th>\n",
              "      <th>Destination Long</th>\n",
              "      <th>Time from Pickup to Arrival</th>\n",
              "    </tr>\n",
              "  </thead>\n",
              "  <tbody>\n",
              "    <tr>\n",
              "      <th>count</th>\n",
              "      <td>21201.000000</td>\n",
              "      <td>21201.000000</td>\n",
              "      <td>21201.000000</td>\n",
              "      <td>21201.000000</td>\n",
              "      <td>21201.000000</td>\n",
              "      <td>21201.000000</td>\n",
              "      <td>21201.000000</td>\n",
              "      <td>21201.000000</td>\n",
              "      <td>21201.000000</td>\n",
              "      <td>21201.000000</td>\n",
              "      <td>21201.000000</td>\n",
              "      <td>21201.000000</td>\n",
              "      <td>16835.000000</td>\n",
              "      <td>552.000000</td>\n",
              "      <td>21201.000000</td>\n",
              "      <td>21201.000000</td>\n",
              "      <td>21201.000000</td>\n",
              "      <td>21201.000000</td>\n",
              "      <td>21201.000000</td>\n",
              "    </tr>\n",
              "    <tr>\n",
              "      <th>mean</th>\n",
              "      <td>2.752182</td>\n",
              "      <td>15.653696</td>\n",
              "      <td>3.240083</td>\n",
              "      <td>15.653837</td>\n",
              "      <td>3.240225</td>\n",
              "      <td>15.653837</td>\n",
              "      <td>3.240225</td>\n",
              "      <td>15.653837</td>\n",
              "      <td>3.240225</td>\n",
              "      <td>15.653837</td>\n",
              "      <td>3.240225</td>\n",
              "      <td>9.506533</td>\n",
              "      <td>23.258889</td>\n",
              "      <td>7.905797</td>\n",
              "      <td>-1.281470</td>\n",
              "      <td>36.811264</td>\n",
              "      <td>-1.282581</td>\n",
              "      <td>36.811220</td>\n",
              "      <td>1556.920947</td>\n",
              "    </tr>\n",
              "    <tr>\n",
              "      <th>std</th>\n",
              "      <td>0.625178</td>\n",
              "      <td>8.798916</td>\n",
              "      <td>1.567295</td>\n",
              "      <td>8.798886</td>\n",
              "      <td>1.567228</td>\n",
              "      <td>8.798886</td>\n",
              "      <td>1.567228</td>\n",
              "      <td>8.798886</td>\n",
              "      <td>1.567228</td>\n",
              "      <td>8.798886</td>\n",
              "      <td>1.567228</td>\n",
              "      <td>5.668963</td>\n",
              "      <td>3.615768</td>\n",
              "      <td>17.089971</td>\n",
              "      <td>0.030507</td>\n",
              "      <td>0.037473</td>\n",
              "      <td>0.034824</td>\n",
              "      <td>0.044721</td>\n",
              "      <td>987.270788</td>\n",
              "    </tr>\n",
              "    <tr>\n",
              "      <th>min</th>\n",
              "      <td>1.000000</td>\n",
              "      <td>1.000000</td>\n",
              "      <td>1.000000</td>\n",
              "      <td>1.000000</td>\n",
              "      <td>1.000000</td>\n",
              "      <td>1.000000</td>\n",
              "      <td>1.000000</td>\n",
              "      <td>1.000000</td>\n",
              "      <td>1.000000</td>\n",
              "      <td>1.000000</td>\n",
              "      <td>1.000000</td>\n",
              "      <td>1.000000</td>\n",
              "      <td>11.200000</td>\n",
              "      <td>0.100000</td>\n",
              "      <td>-1.438302</td>\n",
              "      <td>36.653621</td>\n",
              "      <td>-1.430298</td>\n",
              "      <td>36.606594</td>\n",
              "      <td>1.000000</td>\n",
              "    </tr>\n",
              "    <tr>\n",
              "      <th>25%</th>\n",
              "      <td>3.000000</td>\n",
              "      <td>8.000000</td>\n",
              "      <td>2.000000</td>\n",
              "      <td>8.000000</td>\n",
              "      <td>2.000000</td>\n",
              "      <td>8.000000</td>\n",
              "      <td>2.000000</td>\n",
              "      <td>8.000000</td>\n",
              "      <td>2.000000</td>\n",
              "      <td>8.000000</td>\n",
              "      <td>2.000000</td>\n",
              "      <td>5.000000</td>\n",
              "      <td>20.600000</td>\n",
              "      <td>1.075000</td>\n",
              "      <td>-1.300921</td>\n",
              "      <td>36.784605</td>\n",
              "      <td>-1.301201</td>\n",
              "      <td>36.785661</td>\n",
              "      <td>882.000000</td>\n",
              "    </tr>\n",
              "    <tr>\n",
              "      <th>50%</th>\n",
              "      <td>3.000000</td>\n",
              "      <td>15.000000</td>\n",
              "      <td>3.000000</td>\n",
              "      <td>15.000000</td>\n",
              "      <td>3.000000</td>\n",
              "      <td>15.000000</td>\n",
              "      <td>3.000000</td>\n",
              "      <td>15.000000</td>\n",
              "      <td>3.000000</td>\n",
              "      <td>15.000000</td>\n",
              "      <td>3.000000</td>\n",
              "      <td>8.000000</td>\n",
              "      <td>23.500000</td>\n",
              "      <td>2.900000</td>\n",
              "      <td>-1.279395</td>\n",
              "      <td>36.807040</td>\n",
              "      <td>-1.284382</td>\n",
              "      <td>36.808002</td>\n",
              "      <td>1369.000000</td>\n",
              "    </tr>\n",
              "    <tr>\n",
              "      <th>75%</th>\n",
              "      <td>3.000000</td>\n",
              "      <td>23.000000</td>\n",
              "      <td>5.000000</td>\n",
              "      <td>23.000000</td>\n",
              "      <td>5.000000</td>\n",
              "      <td>23.000000</td>\n",
              "      <td>5.000000</td>\n",
              "      <td>23.000000</td>\n",
              "      <td>5.000000</td>\n",
              "      <td>23.000000</td>\n",
              "      <td>5.000000</td>\n",
              "      <td>13.000000</td>\n",
              "      <td>26.000000</td>\n",
              "      <td>4.900000</td>\n",
              "      <td>-1.257147</td>\n",
              "      <td>36.829741</td>\n",
              "      <td>-1.261177</td>\n",
              "      <td>36.829477</td>\n",
              "      <td>2040.000000</td>\n",
              "    </tr>\n",
              "    <tr>\n",
              "      <th>max</th>\n",
              "      <td>4.000000</td>\n",
              "      <td>31.000000</td>\n",
              "      <td>7.000000</td>\n",
              "      <td>31.000000</td>\n",
              "      <td>7.000000</td>\n",
              "      <td>31.000000</td>\n",
              "      <td>7.000000</td>\n",
              "      <td>31.000000</td>\n",
              "      <td>7.000000</td>\n",
              "      <td>31.000000</td>\n",
              "      <td>7.000000</td>\n",
              "      <td>49.000000</td>\n",
              "      <td>32.100000</td>\n",
              "      <td>99.100000</td>\n",
              "      <td>-1.147170</td>\n",
              "      <td>36.991046</td>\n",
              "      <td>-1.030225</td>\n",
              "      <td>37.016779</td>\n",
              "      <td>7883.000000</td>\n",
              "    </tr>\n",
              "  </tbody>\n",
              "</table>\n",
              "</div>\n",
              "      <button class=\"colab-df-convert\" onclick=\"convertToInteractive('df-b14c9c78-975d-4d7e-9194-21df8e81edbc')\"\n",
              "              title=\"Convert this dataframe to an interactive table.\"\n",
              "              style=\"display:none;\">\n",
              "        \n",
              "  <svg xmlns=\"http://www.w3.org/2000/svg\" height=\"24px\"viewBox=\"0 0 24 24\"\n",
              "       width=\"24px\">\n",
              "    <path d=\"M0 0h24v24H0V0z\" fill=\"none\"/>\n",
              "    <path d=\"M18.56 5.44l.94 2.06.94-2.06 2.06-.94-2.06-.94-.94-2.06-.94 2.06-2.06.94zm-11 1L8.5 8.5l.94-2.06 2.06-.94-2.06-.94L8.5 2.5l-.94 2.06-2.06.94zm10 10l.94 2.06.94-2.06 2.06-.94-2.06-.94-.94-2.06-.94 2.06-2.06.94z\"/><path d=\"M17.41 7.96l-1.37-1.37c-.4-.4-.92-.59-1.43-.59-.52 0-1.04.2-1.43.59L10.3 9.45l-7.72 7.72c-.78.78-.78 2.05 0 2.83L4 21.41c.39.39.9.59 1.41.59.51 0 1.02-.2 1.41-.59l7.78-7.78 2.81-2.81c.8-.78.8-2.07 0-2.86zM5.41 20L4 18.59l7.72-7.72 1.47 1.35L5.41 20z\"/>\n",
              "  </svg>\n",
              "      </button>\n",
              "      \n",
              "  <style>\n",
              "    .colab-df-container {\n",
              "      display:flex;\n",
              "      flex-wrap:wrap;\n",
              "      gap: 12px;\n",
              "    }\n",
              "\n",
              "    .colab-df-convert {\n",
              "      background-color: #E8F0FE;\n",
              "      border: none;\n",
              "      border-radius: 50%;\n",
              "      cursor: pointer;\n",
              "      display: none;\n",
              "      fill: #1967D2;\n",
              "      height: 32px;\n",
              "      padding: 0 0 0 0;\n",
              "      width: 32px;\n",
              "    }\n",
              "\n",
              "    .colab-df-convert:hover {\n",
              "      background-color: #E2EBFA;\n",
              "      box-shadow: 0px 1px 2px rgba(60, 64, 67, 0.3), 0px 1px 3px 1px rgba(60, 64, 67, 0.15);\n",
              "      fill: #174EA6;\n",
              "    }\n",
              "\n",
              "    [theme=dark] .colab-df-convert {\n",
              "      background-color: #3B4455;\n",
              "      fill: #D2E3FC;\n",
              "    }\n",
              "\n",
              "    [theme=dark] .colab-df-convert:hover {\n",
              "      background-color: #434B5C;\n",
              "      box-shadow: 0px 1px 3px 1px rgba(0, 0, 0, 0.15);\n",
              "      filter: drop-shadow(0px 1px 2px rgba(0, 0, 0, 0.3));\n",
              "      fill: #FFFFFF;\n",
              "    }\n",
              "  </style>\n",
              "\n",
              "      <script>\n",
              "        const buttonEl =\n",
              "          document.querySelector('#df-b14c9c78-975d-4d7e-9194-21df8e81edbc button.colab-df-convert');\n",
              "        buttonEl.style.display =\n",
              "          google.colab.kernel.accessAllowed ? 'block' : 'none';\n",
              "\n",
              "        async function convertToInteractive(key) {\n",
              "          const element = document.querySelector('#df-b14c9c78-975d-4d7e-9194-21df8e81edbc');\n",
              "          const dataTable =\n",
              "            await google.colab.kernel.invokeFunction('convertToInteractive',\n",
              "                                                     [key], {});\n",
              "          if (!dataTable) return;\n",
              "\n",
              "          const docLinkHtml = 'Like what you see? Visit the ' +\n",
              "            '<a target=\"_blank\" href=https://colab.research.google.com/notebooks/data_table.ipynb>data table notebook</a>'\n",
              "            + ' to learn more about interactive tables.';\n",
              "          element.innerHTML = '';\n",
              "          dataTable['output_type'] = 'display_data';\n",
              "          await google.colab.output.renderOutput(dataTable, element);\n",
              "          const docLink = document.createElement('div');\n",
              "          docLink.innerHTML = docLinkHtml;\n",
              "          element.appendChild(docLink);\n",
              "        }\n",
              "      </script>\n",
              "    </div>\n",
              "  </div>\n",
              "  "
            ]
          },
          "metadata": {},
          "execution_count": 7
        }
      ]
    },
    {
      "cell_type": "code",
      "source": [
        "#check for duplicate observations\n",
        "df.duplicated().sum() # no duplicated record"
      ],
      "metadata": {
        "colab": {
          "base_uri": "https://localhost:8080/"
        },
        "id": "nbXsqkqTslwX",
        "outputId": "f4d49213-b654-4801-f12a-ca9d5adad584"
      },
      "execution_count": 8,
      "outputs": [
        {
          "output_type": "execute_result",
          "data": {
            "text/plain": [
              "0"
            ]
          },
          "metadata": {},
          "execution_count": 8
        }
      ]
    },
    {
      "cell_type": "markdown",
      "metadata": {
        "id": "FlBMxEDBUc9B"
      },
      "source": [
        "## 4. Data Preparation"
      ]
    },
    {
      "cell_type": "code",
      "source": [
        "#standardise columns names\n",
        "df.columns = df.columns.str.lower().str.replace(' ', '_').str.replace('(', '').str.replace(')', '').str.replace('-', '').str.replace('=', '').str.strip()\n",
        "df.columns"
      ],
      "metadata": {
        "colab": {
          "base_uri": "https://localhost:8080/"
        },
        "id": "5vzY2sI10FCC",
        "outputId": "217f1bed-4693-4bc2-f506-7987ab1fed4a"
      },
      "execution_count": 9,
      "outputs": [
        {
          "output_type": "stream",
          "name": "stderr",
          "text": [
            "/usr/local/lib/python3.7/dist-packages/ipykernel_launcher.py:2: FutureWarning: The default value of regex will change from True to False in a future version. In addition, single character regular expressions will *not* be treated as literal strings when regex=True.\n",
            "  \n"
          ]
        },
        {
          "output_type": "execute_result",
          "data": {
            "text/plain": [
              "Index(['order_no', 'user_id', 'vehicle_type', 'platform_type',\n",
              "       'personal_or_business', 'placement__day_of_month',\n",
              "       'placement__weekday_mo__1', 'placement__time',\n",
              "       'confirmation__day_of_month', 'confirmation__weekday_mo__1',\n",
              "       'confirmation__time', 'arrival_at_pickup__day_of_month',\n",
              "       'arrival_at_pickup__weekday_mo__1', 'arrival_at_pickup__time',\n",
              "       'pickup__day_of_month', 'pickup__weekday_mo__1', 'pickup__time',\n",
              "       'arrival_at_destination__day_of_month',\n",
              "       'arrival_at_destination__weekday_mo__1', 'arrival_at_destination__time',\n",
              "       'distance_km', 'temperature', 'precipitation_in_millimeters',\n",
              "       'pickup_lat', 'pickup_long', 'destination_lat', 'destination_long',\n",
              "       'rider_id', 'time_from_pickup_to_arrival'],\n",
              "      dtype='object')"
            ]
          },
          "metadata": {},
          "execution_count": 9
        }
      ]
    },
    {
      "cell_type": "code",
      "metadata": {
        "id": "qEFxByRP3oMj"
      },
      "source": [
        "# Dropping irrelevant columns\n",
        "# --- vehicle_type dropped since it only one value\n",
        "df.drop(columns=['order_no', 'user_id', 'vehicle_type', 'pickup_lat', 'pickup_long', 'destination_lat', 'destination_long', 'rider_id'], inplace=True)"
      ],
      "execution_count": 10,
      "outputs": []
    },
    {
      "cell_type": "code",
      "metadata": {
        "id": "DJLY7ugk9Wgs"
      },
      "source": [
        "# Handling missing data\n",
        "# ---\n",
        "#replace missing value in temperature with mean of values and drop precipitation_in_millimeters\n",
        "df.drop(columns='precipitation_in_millimeters', inplace=True)\n",
        "df.loc[df['temperature'].isnull(), 'temperature'] = df['temperature'].mean()"
      ],
      "execution_count": 11,
      "outputs": []
    },
    {
      "cell_type": "code",
      "source": [
        "#correct the \"time\" columns object datatype to numerics\n",
        "df['placement__time'] = df.loc[:, 'placement__time'].str.split(':').apply(lambda x: int(x[0]))\n",
        "df['confirmation__time'] = df.loc[:, 'confirmation__time'].str.split(':').apply(lambda x: int(x[0]))\n",
        "df['arrival_at_pickup__time'] = df.loc[:, 'arrival_at_pickup__time'].str.split(':').apply(lambda x: int(x[0]))\n",
        "df['pickup__time'] = df.loc[:, 'pickup__time'].str.split(':').apply(lambda x: int(x[0]))\n",
        "df['arrival_at_destination__time'] = df.loc[:, 'arrival_at_destination__time'].str.split(':').apply(lambda x: int(x[0]))\n"
      ],
      "metadata": {
        "id": "YW0fjvTN6B8k"
      },
      "execution_count": 12,
      "outputs": []
    },
    {
      "cell_type": "code",
      "source": [
        "#personal_or_business is nominal variable. convert to categorical variables\n",
        "df = pd.get_dummies(df, drop_first=True)"
      ],
      "metadata": {
        "id": "taBGBXh4IzLN"
      },
      "execution_count": 13,
      "outputs": []
    },
    {
      "cell_type": "code",
      "source": [
        "#data preparation done. create train dataset set\n",
        "train = df.copy()\n",
        "train.columns"
      ],
      "metadata": {
        "colab": {
          "base_uri": "https://localhost:8080/"
        },
        "id": "ybafsc1xGVyl",
        "outputId": "e6f7d4aa-629b-41e2-aeeb-f455aa595d35"
      },
      "execution_count": 14,
      "outputs": [
        {
          "output_type": "execute_result",
          "data": {
            "text/plain": [
              "Index(['platform_type', 'placement__day_of_month', 'placement__weekday_mo__1',\n",
              "       'placement__time', 'confirmation__day_of_month',\n",
              "       'confirmation__weekday_mo__1', 'confirmation__time',\n",
              "       'arrival_at_pickup__day_of_month', 'arrival_at_pickup__weekday_mo__1',\n",
              "       'arrival_at_pickup__time', 'pickup__day_of_month',\n",
              "       'pickup__weekday_mo__1', 'pickup__time',\n",
              "       'arrival_at_destination__day_of_month',\n",
              "       'arrival_at_destination__weekday_mo__1', 'arrival_at_destination__time',\n",
              "       'distance_km', 'temperature', 'time_from_pickup_to_arrival',\n",
              "       'personal_or_business_Personal'],\n",
              "      dtype='object')"
            ]
          },
          "metadata": {},
          "execution_count": 14
        }
      ]
    },
    {
      "cell_type": "markdown",
      "metadata": {
        "id": "vTbdjSrhVIiT"
      },
      "source": [
        "\n",
        "## Modelling"
      ]
    },
    {
      "cell_type": "markdown",
      "metadata": {
        "id": "PdHyc8WYHlAG"
      },
      "source": [
        "* The target variable, time_from_pickup_to_arrival, is linear. the best model to use are regressions models"
      ]
    },
    {
      "cell_type": "markdown",
      "source": [
        "## Features improvement\n",
        "###Normalisation and standardisation"
      ],
      "metadata": {
        "id": "2JLNuQ_cdnLb"
      }
    },
    {
      "cell_type": "code",
      "source": [
        "#import the relevent scikit modules for modelling\n",
        "from sklearn.model_selection import train_test_split\n",
        "from sklearn.ensemble import RandomForestRegressor\n",
        "from sklearn.metrics import mean_squared_error\n",
        "from sklearn.preprocessing import MinMaxScaler\n",
        "from sklearn.preprocessing import StandardScaler"
      ],
      "metadata": {
        "id": "0s44tNJ9Lh_e"
      },
      "execution_count": 15,
      "outputs": []
    },
    {
      "cell_type": "code",
      "source": [
        "# We select our features variable(X) and target variables(y)\n",
        "X = train.drop(columns=['time_from_pickup_to_arrival'])\n",
        "y = train['time_from_pickup_to_arrival']\n",
        "\n",
        "# Splitting our dataset \n",
        "X_train, X_test, y_train, y_test = train_test_split(X, y, test_size=.3, random_state = 42) \n",
        "\n",
        "#create a model object for random forest\n",
        "forest_model = RandomForestRegressor(random_state=42)\n",
        "\n",
        "#train the model using the train dataset\n",
        "forest_model.fit(X_train, y_train)\n",
        "\n",
        "#get a prediction for the target test using the trained model\n",
        "y_prediction = forest_model.predict(X_test)\n",
        "\n",
        "#use RMSE error to evaluate our model\n",
        "print(f'RMSE forest {np.sqrt(mean_squared_error(y_test, y_prediction))}')\n",
        "\n"
      ],
      "metadata": {
        "colab": {
          "base_uri": "https://localhost:8080/"
        },
        "id": "s99LtT_JOi37",
        "outputId": "33a86d21-4e0c-458c-ae62-7cc77c2101f6"
      },
      "execution_count": 16,
      "outputs": [
        {
          "output_type": "stream",
          "name": "stdout",
          "text": [
            "RMSE forest 731.8776818465451\n"
          ]
        }
      ]
    },
    {
      "cell_type": "code",
      "source": [
        "# We then check for modeling with only normalisation\n",
        "# We select our features variable(X) and target variables(y)\n",
        "X = train.drop(columns=['time_from_pickup_to_arrival'])\n",
        "y = train['time_from_pickup_to_arrival']\n",
        "\n",
        "# Splitting our dataset \n",
        "X_train, X_test, y_train, y_test = train_test_split(X, y, test_size=.3, random_state = 42) \n",
        "\n",
        "# Performing normalisation \n",
        "norm = MinMaxScaler().fit(X_train) \n",
        "X_train = norm.transform(X_train) \n",
        "X_test = norm.transform(X_test)\n",
        "\n",
        "#create a model object for random forest\n",
        "forest_model = RandomForestRegressor(random_state=42)\n",
        "\n",
        "#train the model using the train dataset\n",
        "forest_model.fit(X_train, y_train)\n",
        "\n",
        "#get a prediction for the target test using the trained model\n",
        "y_prediction = forest_model.predict(X_test)\n",
        "\n",
        "#use RMSE error to evaluate our model\n",
        "print(f'RMSE forest {np.sqrt(mean_squared_error(y_test, y_prediction))}')\n"
      ],
      "metadata": {
        "colab": {
          "base_uri": "https://localhost:8080/"
        },
        "id": "XcYBB0hWatt4",
        "outputId": "b2e81c93-bc45-480f-ffd1-9b72f9a969f2"
      },
      "execution_count": 17,
      "outputs": [
        {
          "output_type": "stream",
          "name": "stdout",
          "text": [
            "RMSE forest 731.4889369997767\n"
          ]
        }
      ]
    },
    {
      "cell_type": "code",
      "source": [
        "# We then check for modeling with only standardisation\n",
        "# We select our features variable(X) and target variables(y)\n",
        "\n",
        "X = train.drop(columns=['time_from_pickup_to_arrival'])\n",
        "y = train['time_from_pickup_to_arrival']\n",
        "\n",
        "# Splitting our dataset \n",
        "X_train, X_test, y_train, y_test = train_test_split(X, y, test_size=.3, random_state = 42) \n",
        "\n",
        "# Performing normalisation \n",
        "standscaler = StandardScaler()\n",
        "X_train = standscaler.fit_transform(X_train) \n",
        "X_test = standscaler.fit_transform(X_test)\n",
        "\n",
        "#create a model object for random forest\n",
        "forest_model = RandomForestRegressor(random_state=42)\n",
        "\n",
        "#train the model using the train dataset\n",
        "forest_model.fit(X_train, y_train)\n",
        "\n",
        "#get a prediction for the target test using the trained model\n",
        "y_prediction = forest_model.predict(X_test)\n",
        "\n",
        "#use RMSE error to evaluate our model\n",
        "print(f'RMSE forest {np.sqrt(mean_squared_error(y_test, y_prediction))}')\n"
      ],
      "metadata": {
        "colab": {
          "base_uri": "https://localhost:8080/"
        },
        "id": "mn9sghpNcHWF",
        "outputId": "418d3e61-1438-4a39-e288-e145ea7fdbac"
      },
      "execution_count": 18,
      "outputs": [
        {
          "output_type": "stream",
          "name": "stdout",
          "text": [
            "RMSE forest 732.3931895887533\n"
          ]
        }
      ]
    },
    {
      "cell_type": "markdown",
      "metadata": {
        "id": "Nh5mcts5IK8U"
      },
      "source": [
        "### Feature construction\n"
      ]
    },
    {
      "cell_type": "code",
      "source": [
        "train.head()"
      ],
      "metadata": {
        "colab": {
          "base_uri": "https://localhost:8080/",
          "height": 270
        },
        "id": "7Y-W07NV-S_Q",
        "outputId": "0beb2147-8b60-471a-dedc-e708452f0ae0"
      },
      "execution_count": 19,
      "outputs": [
        {
          "output_type": "execute_result",
          "data": {
            "text/plain": [
              "   platform_type  placement__day_of_month  placement__weekday_mo__1  \\\n",
              "0              3                        9                         5   \n",
              "1              3                       12                         5   \n",
              "2              3                       30                         2   \n",
              "3              3                       15                         5   \n",
              "4              1                       13                         1   \n",
              "\n",
              "   placement__time  confirmation__day_of_month  confirmation__weekday_mo__1  \\\n",
              "0                9                           9                            5   \n",
              "1               11                          12                            5   \n",
              "2               12                          30                            2   \n",
              "3                9                          15                            5   \n",
              "4                9                          13                            1   \n",
              "\n",
              "   confirmation__time  arrival_at_pickup__day_of_month  \\\n",
              "0                   9                                9   \n",
              "1                  11                               12   \n",
              "2                  12                               30   \n",
              "3                   9                               15   \n",
              "4                   9                               13   \n",
              "\n",
              "   arrival_at_pickup__weekday_mo__1  arrival_at_pickup__time  \\\n",
              "0                                 5                       10   \n",
              "1                                 5                       11   \n",
              "2                                 2                       12   \n",
              "3                                 5                        9   \n",
              "4                                 1                       10   \n",
              "\n",
              "   pickup__day_of_month  pickup__weekday_mo__1  pickup__time  \\\n",
              "0                     9                      5            10   \n",
              "1                    12                      5            11   \n",
              "2                    30                      2            12   \n",
              "3                    15                      5             9   \n",
              "4                    13                      1            10   \n",
              "\n",
              "   arrival_at_destination__day_of_month  \\\n",
              "0                                     9   \n",
              "1                                    12   \n",
              "2                                    30   \n",
              "3                                    15   \n",
              "4                                    13   \n",
              "\n",
              "   arrival_at_destination__weekday_mo__1  arrival_at_destination__time  \\\n",
              "0                                      5                            10   \n",
              "1                                      5                            12   \n",
              "2                                      2                             1   \n",
              "3                                      5                            10   \n",
              "4                                      1                            10   \n",
              "\n",
              "   distance_km  temperature  time_from_pickup_to_arrival  \\\n",
              "0            4    20.400000                          745   \n",
              "1           16    26.400000                         1993   \n",
              "2            3    23.258889                          455   \n",
              "3            9    19.200000                         1341   \n",
              "4            9    15.400000                         1214   \n",
              "\n",
              "   personal_or_business_Personal  \n",
              "0                              0  \n",
              "1                              1  \n",
              "2                              0  \n",
              "3                              0  \n",
              "4                              1  "
            ],
            "text/html": [
              "\n",
              "  <div id=\"df-2397e4c9-9ccb-4028-99e1-e839c16c9188\">\n",
              "    <div class=\"colab-df-container\">\n",
              "      <div>\n",
              "<style scoped>\n",
              "    .dataframe tbody tr th:only-of-type {\n",
              "        vertical-align: middle;\n",
              "    }\n",
              "\n",
              "    .dataframe tbody tr th {\n",
              "        vertical-align: top;\n",
              "    }\n",
              "\n",
              "    .dataframe thead th {\n",
              "        text-align: right;\n",
              "    }\n",
              "</style>\n",
              "<table border=\"1\" class=\"dataframe\">\n",
              "  <thead>\n",
              "    <tr style=\"text-align: right;\">\n",
              "      <th></th>\n",
              "      <th>platform_type</th>\n",
              "      <th>placement__day_of_month</th>\n",
              "      <th>placement__weekday_mo__1</th>\n",
              "      <th>placement__time</th>\n",
              "      <th>confirmation__day_of_month</th>\n",
              "      <th>confirmation__weekday_mo__1</th>\n",
              "      <th>confirmation__time</th>\n",
              "      <th>arrival_at_pickup__day_of_month</th>\n",
              "      <th>arrival_at_pickup__weekday_mo__1</th>\n",
              "      <th>arrival_at_pickup__time</th>\n",
              "      <th>pickup__day_of_month</th>\n",
              "      <th>pickup__weekday_mo__1</th>\n",
              "      <th>pickup__time</th>\n",
              "      <th>arrival_at_destination__day_of_month</th>\n",
              "      <th>arrival_at_destination__weekday_mo__1</th>\n",
              "      <th>arrival_at_destination__time</th>\n",
              "      <th>distance_km</th>\n",
              "      <th>temperature</th>\n",
              "      <th>time_from_pickup_to_arrival</th>\n",
              "      <th>personal_or_business_Personal</th>\n",
              "    </tr>\n",
              "  </thead>\n",
              "  <tbody>\n",
              "    <tr>\n",
              "      <th>0</th>\n",
              "      <td>3</td>\n",
              "      <td>9</td>\n",
              "      <td>5</td>\n",
              "      <td>9</td>\n",
              "      <td>9</td>\n",
              "      <td>5</td>\n",
              "      <td>9</td>\n",
              "      <td>9</td>\n",
              "      <td>5</td>\n",
              "      <td>10</td>\n",
              "      <td>9</td>\n",
              "      <td>5</td>\n",
              "      <td>10</td>\n",
              "      <td>9</td>\n",
              "      <td>5</td>\n",
              "      <td>10</td>\n",
              "      <td>4</td>\n",
              "      <td>20.400000</td>\n",
              "      <td>745</td>\n",
              "      <td>0</td>\n",
              "    </tr>\n",
              "    <tr>\n",
              "      <th>1</th>\n",
              "      <td>3</td>\n",
              "      <td>12</td>\n",
              "      <td>5</td>\n",
              "      <td>11</td>\n",
              "      <td>12</td>\n",
              "      <td>5</td>\n",
              "      <td>11</td>\n",
              "      <td>12</td>\n",
              "      <td>5</td>\n",
              "      <td>11</td>\n",
              "      <td>12</td>\n",
              "      <td>5</td>\n",
              "      <td>11</td>\n",
              "      <td>12</td>\n",
              "      <td>5</td>\n",
              "      <td>12</td>\n",
              "      <td>16</td>\n",
              "      <td>26.400000</td>\n",
              "      <td>1993</td>\n",
              "      <td>1</td>\n",
              "    </tr>\n",
              "    <tr>\n",
              "      <th>2</th>\n",
              "      <td>3</td>\n",
              "      <td>30</td>\n",
              "      <td>2</td>\n",
              "      <td>12</td>\n",
              "      <td>30</td>\n",
              "      <td>2</td>\n",
              "      <td>12</td>\n",
              "      <td>30</td>\n",
              "      <td>2</td>\n",
              "      <td>12</td>\n",
              "      <td>30</td>\n",
              "      <td>2</td>\n",
              "      <td>12</td>\n",
              "      <td>30</td>\n",
              "      <td>2</td>\n",
              "      <td>1</td>\n",
              "      <td>3</td>\n",
              "      <td>23.258889</td>\n",
              "      <td>455</td>\n",
              "      <td>0</td>\n",
              "    </tr>\n",
              "    <tr>\n",
              "      <th>3</th>\n",
              "      <td>3</td>\n",
              "      <td>15</td>\n",
              "      <td>5</td>\n",
              "      <td>9</td>\n",
              "      <td>15</td>\n",
              "      <td>5</td>\n",
              "      <td>9</td>\n",
              "      <td>15</td>\n",
              "      <td>5</td>\n",
              "      <td>9</td>\n",
              "      <td>15</td>\n",
              "      <td>5</td>\n",
              "      <td>9</td>\n",
              "      <td>15</td>\n",
              "      <td>5</td>\n",
              "      <td>10</td>\n",
              "      <td>9</td>\n",
              "      <td>19.200000</td>\n",
              "      <td>1341</td>\n",
              "      <td>0</td>\n",
              "    </tr>\n",
              "    <tr>\n",
              "      <th>4</th>\n",
              "      <td>1</td>\n",
              "      <td>13</td>\n",
              "      <td>1</td>\n",
              "      <td>9</td>\n",
              "      <td>13</td>\n",
              "      <td>1</td>\n",
              "      <td>9</td>\n",
              "      <td>13</td>\n",
              "      <td>1</td>\n",
              "      <td>10</td>\n",
              "      <td>13</td>\n",
              "      <td>1</td>\n",
              "      <td>10</td>\n",
              "      <td>13</td>\n",
              "      <td>1</td>\n",
              "      <td>10</td>\n",
              "      <td>9</td>\n",
              "      <td>15.400000</td>\n",
              "      <td>1214</td>\n",
              "      <td>1</td>\n",
              "    </tr>\n",
              "  </tbody>\n",
              "</table>\n",
              "</div>\n",
              "      <button class=\"colab-df-convert\" onclick=\"convertToInteractive('df-2397e4c9-9ccb-4028-99e1-e839c16c9188')\"\n",
              "              title=\"Convert this dataframe to an interactive table.\"\n",
              "              style=\"display:none;\">\n",
              "        \n",
              "  <svg xmlns=\"http://www.w3.org/2000/svg\" height=\"24px\"viewBox=\"0 0 24 24\"\n",
              "       width=\"24px\">\n",
              "    <path d=\"M0 0h24v24H0V0z\" fill=\"none\"/>\n",
              "    <path d=\"M18.56 5.44l.94 2.06.94-2.06 2.06-.94-2.06-.94-.94-2.06-.94 2.06-2.06.94zm-11 1L8.5 8.5l.94-2.06 2.06-.94-2.06-.94L8.5 2.5l-.94 2.06-2.06.94zm10 10l.94 2.06.94-2.06 2.06-.94-2.06-.94-.94-2.06-.94 2.06-2.06.94z\"/><path d=\"M17.41 7.96l-1.37-1.37c-.4-.4-.92-.59-1.43-.59-.52 0-1.04.2-1.43.59L10.3 9.45l-7.72 7.72c-.78.78-.78 2.05 0 2.83L4 21.41c.39.39.9.59 1.41.59.51 0 1.02-.2 1.41-.59l7.78-7.78 2.81-2.81c.8-.78.8-2.07 0-2.86zM5.41 20L4 18.59l7.72-7.72 1.47 1.35L5.41 20z\"/>\n",
              "  </svg>\n",
              "      </button>\n",
              "      \n",
              "  <style>\n",
              "    .colab-df-container {\n",
              "      display:flex;\n",
              "      flex-wrap:wrap;\n",
              "      gap: 12px;\n",
              "    }\n",
              "\n",
              "    .colab-df-convert {\n",
              "      background-color: #E8F0FE;\n",
              "      border: none;\n",
              "      border-radius: 50%;\n",
              "      cursor: pointer;\n",
              "      display: none;\n",
              "      fill: #1967D2;\n",
              "      height: 32px;\n",
              "      padding: 0 0 0 0;\n",
              "      width: 32px;\n",
              "    }\n",
              "\n",
              "    .colab-df-convert:hover {\n",
              "      background-color: #E2EBFA;\n",
              "      box-shadow: 0px 1px 2px rgba(60, 64, 67, 0.3), 0px 1px 3px 1px rgba(60, 64, 67, 0.15);\n",
              "      fill: #174EA6;\n",
              "    }\n",
              "\n",
              "    [theme=dark] .colab-df-convert {\n",
              "      background-color: #3B4455;\n",
              "      fill: #D2E3FC;\n",
              "    }\n",
              "\n",
              "    [theme=dark] .colab-df-convert:hover {\n",
              "      background-color: #434B5C;\n",
              "      box-shadow: 0px 1px 3px 1px rgba(0, 0, 0, 0.15);\n",
              "      filter: drop-shadow(0px 1px 2px rgba(0, 0, 0, 0.3));\n",
              "      fill: #FFFFFF;\n",
              "    }\n",
              "  </style>\n",
              "\n",
              "      <script>\n",
              "        const buttonEl =\n",
              "          document.querySelector('#df-2397e4c9-9ccb-4028-99e1-e839c16c9188 button.colab-df-convert');\n",
              "        buttonEl.style.display =\n",
              "          google.colab.kernel.accessAllowed ? 'block' : 'none';\n",
              "\n",
              "        async function convertToInteractive(key) {\n",
              "          const element = document.querySelector('#df-2397e4c9-9ccb-4028-99e1-e839c16c9188');\n",
              "          const dataTable =\n",
              "            await google.colab.kernel.invokeFunction('convertToInteractive',\n",
              "                                                     [key], {});\n",
              "          if (!dataTable) return;\n",
              "\n",
              "          const docLinkHtml = 'Like what you see? Visit the ' +\n",
              "            '<a target=\"_blank\" href=https://colab.research.google.com/notebooks/data_table.ipynb>data table notebook</a>'\n",
              "            + ' to learn more about interactive tables.';\n",
              "          element.innerHTML = '';\n",
              "          dataTable['output_type'] = 'display_data';\n",
              "          await google.colab.output.renderOutput(dataTable, element);\n",
              "          const docLink = document.createElement('div');\n",
              "          docLink.innerHTML = docLinkHtml;\n",
              "          element.appendChild(docLink);\n",
              "        }\n",
              "      </script>\n",
              "    </div>\n",
              "  </div>\n",
              "  "
            ]
          },
          "metadata": {},
          "execution_count": 19
        }
      ]
    },
    {
      "cell_type": "code",
      "source": [
        "#calculate the speed of the carrier from speed=distance/time\n",
        "train['speed'] = 0\n",
        "for index, row in train.iterrows():\n",
        "  train.loc[index, 'speed'] = row['distance_km']/(row['time_from_pickup_to_arrival']/60)\n",
        "train.head()\n"
      ],
      "metadata": {
        "id": "TAMqxZMK2G6l",
        "colab": {
          "base_uri": "https://localhost:8080/",
          "height": 300
        },
        "outputId": "30270a57-b6da-41c9-a880-0df4573e8d40"
      },
      "execution_count": 20,
      "outputs": [
        {
          "output_type": "execute_result",
          "data": {
            "text/plain": [
              "   platform_type  placement__day_of_month  placement__weekday_mo__1  \\\n",
              "0              3                        9                         5   \n",
              "1              3                       12                         5   \n",
              "2              3                       30                         2   \n",
              "3              3                       15                         5   \n",
              "4              1                       13                         1   \n",
              "\n",
              "   placement__time  confirmation__day_of_month  confirmation__weekday_mo__1  \\\n",
              "0                9                           9                            5   \n",
              "1               11                          12                            5   \n",
              "2               12                          30                            2   \n",
              "3                9                          15                            5   \n",
              "4                9                          13                            1   \n",
              "\n",
              "   confirmation__time  arrival_at_pickup__day_of_month  \\\n",
              "0                   9                                9   \n",
              "1                  11                               12   \n",
              "2                  12                               30   \n",
              "3                   9                               15   \n",
              "4                   9                               13   \n",
              "\n",
              "   arrival_at_pickup__weekday_mo__1  arrival_at_pickup__time  ...  \\\n",
              "0                                 5                       10  ...   \n",
              "1                                 5                       11  ...   \n",
              "2                                 2                       12  ...   \n",
              "3                                 5                        9  ...   \n",
              "4                                 1                       10  ...   \n",
              "\n",
              "   pickup__weekday_mo__1  pickup__time  arrival_at_destination__day_of_month  \\\n",
              "0                      5            10                                     9   \n",
              "1                      5            11                                    12   \n",
              "2                      2            12                                    30   \n",
              "3                      5             9                                    15   \n",
              "4                      1            10                                    13   \n",
              "\n",
              "   arrival_at_destination__weekday_mo__1  arrival_at_destination__time  \\\n",
              "0                                      5                            10   \n",
              "1                                      5                            12   \n",
              "2                                      2                             1   \n",
              "3                                      5                            10   \n",
              "4                                      1                            10   \n",
              "\n",
              "   distance_km  temperature  time_from_pickup_to_arrival  \\\n",
              "0            4    20.400000                          745   \n",
              "1           16    26.400000                         1993   \n",
              "2            3    23.258889                          455   \n",
              "3            9    19.200000                         1341   \n",
              "4            9    15.400000                         1214   \n",
              "\n",
              "   personal_or_business_Personal     speed  \n",
              "0                              0  0.322148  \n",
              "1                              1  0.481686  \n",
              "2                              0  0.395604  \n",
              "3                              0  0.402685  \n",
              "4                              1  0.444811  \n",
              "\n",
              "[5 rows x 21 columns]"
            ],
            "text/html": [
              "\n",
              "  <div id=\"df-cd31bc13-f4bb-4fee-a731-caee7905beaa\">\n",
              "    <div class=\"colab-df-container\">\n",
              "      <div>\n",
              "<style scoped>\n",
              "    .dataframe tbody tr th:only-of-type {\n",
              "        vertical-align: middle;\n",
              "    }\n",
              "\n",
              "    .dataframe tbody tr th {\n",
              "        vertical-align: top;\n",
              "    }\n",
              "\n",
              "    .dataframe thead th {\n",
              "        text-align: right;\n",
              "    }\n",
              "</style>\n",
              "<table border=\"1\" class=\"dataframe\">\n",
              "  <thead>\n",
              "    <tr style=\"text-align: right;\">\n",
              "      <th></th>\n",
              "      <th>platform_type</th>\n",
              "      <th>placement__day_of_month</th>\n",
              "      <th>placement__weekday_mo__1</th>\n",
              "      <th>placement__time</th>\n",
              "      <th>confirmation__day_of_month</th>\n",
              "      <th>confirmation__weekday_mo__1</th>\n",
              "      <th>confirmation__time</th>\n",
              "      <th>arrival_at_pickup__day_of_month</th>\n",
              "      <th>arrival_at_pickup__weekday_mo__1</th>\n",
              "      <th>arrival_at_pickup__time</th>\n",
              "      <th>...</th>\n",
              "      <th>pickup__weekday_mo__1</th>\n",
              "      <th>pickup__time</th>\n",
              "      <th>arrival_at_destination__day_of_month</th>\n",
              "      <th>arrival_at_destination__weekday_mo__1</th>\n",
              "      <th>arrival_at_destination__time</th>\n",
              "      <th>distance_km</th>\n",
              "      <th>temperature</th>\n",
              "      <th>time_from_pickup_to_arrival</th>\n",
              "      <th>personal_or_business_Personal</th>\n",
              "      <th>speed</th>\n",
              "    </tr>\n",
              "  </thead>\n",
              "  <tbody>\n",
              "    <tr>\n",
              "      <th>0</th>\n",
              "      <td>3</td>\n",
              "      <td>9</td>\n",
              "      <td>5</td>\n",
              "      <td>9</td>\n",
              "      <td>9</td>\n",
              "      <td>5</td>\n",
              "      <td>9</td>\n",
              "      <td>9</td>\n",
              "      <td>5</td>\n",
              "      <td>10</td>\n",
              "      <td>...</td>\n",
              "      <td>5</td>\n",
              "      <td>10</td>\n",
              "      <td>9</td>\n",
              "      <td>5</td>\n",
              "      <td>10</td>\n",
              "      <td>4</td>\n",
              "      <td>20.400000</td>\n",
              "      <td>745</td>\n",
              "      <td>0</td>\n",
              "      <td>0.322148</td>\n",
              "    </tr>\n",
              "    <tr>\n",
              "      <th>1</th>\n",
              "      <td>3</td>\n",
              "      <td>12</td>\n",
              "      <td>5</td>\n",
              "      <td>11</td>\n",
              "      <td>12</td>\n",
              "      <td>5</td>\n",
              "      <td>11</td>\n",
              "      <td>12</td>\n",
              "      <td>5</td>\n",
              "      <td>11</td>\n",
              "      <td>...</td>\n",
              "      <td>5</td>\n",
              "      <td>11</td>\n",
              "      <td>12</td>\n",
              "      <td>5</td>\n",
              "      <td>12</td>\n",
              "      <td>16</td>\n",
              "      <td>26.400000</td>\n",
              "      <td>1993</td>\n",
              "      <td>1</td>\n",
              "      <td>0.481686</td>\n",
              "    </tr>\n",
              "    <tr>\n",
              "      <th>2</th>\n",
              "      <td>3</td>\n",
              "      <td>30</td>\n",
              "      <td>2</td>\n",
              "      <td>12</td>\n",
              "      <td>30</td>\n",
              "      <td>2</td>\n",
              "      <td>12</td>\n",
              "      <td>30</td>\n",
              "      <td>2</td>\n",
              "      <td>12</td>\n",
              "      <td>...</td>\n",
              "      <td>2</td>\n",
              "      <td>12</td>\n",
              "      <td>30</td>\n",
              "      <td>2</td>\n",
              "      <td>1</td>\n",
              "      <td>3</td>\n",
              "      <td>23.258889</td>\n",
              "      <td>455</td>\n",
              "      <td>0</td>\n",
              "      <td>0.395604</td>\n",
              "    </tr>\n",
              "    <tr>\n",
              "      <th>3</th>\n",
              "      <td>3</td>\n",
              "      <td>15</td>\n",
              "      <td>5</td>\n",
              "      <td>9</td>\n",
              "      <td>15</td>\n",
              "      <td>5</td>\n",
              "      <td>9</td>\n",
              "      <td>15</td>\n",
              "      <td>5</td>\n",
              "      <td>9</td>\n",
              "      <td>...</td>\n",
              "      <td>5</td>\n",
              "      <td>9</td>\n",
              "      <td>15</td>\n",
              "      <td>5</td>\n",
              "      <td>10</td>\n",
              "      <td>9</td>\n",
              "      <td>19.200000</td>\n",
              "      <td>1341</td>\n",
              "      <td>0</td>\n",
              "      <td>0.402685</td>\n",
              "    </tr>\n",
              "    <tr>\n",
              "      <th>4</th>\n",
              "      <td>1</td>\n",
              "      <td>13</td>\n",
              "      <td>1</td>\n",
              "      <td>9</td>\n",
              "      <td>13</td>\n",
              "      <td>1</td>\n",
              "      <td>9</td>\n",
              "      <td>13</td>\n",
              "      <td>1</td>\n",
              "      <td>10</td>\n",
              "      <td>...</td>\n",
              "      <td>1</td>\n",
              "      <td>10</td>\n",
              "      <td>13</td>\n",
              "      <td>1</td>\n",
              "      <td>10</td>\n",
              "      <td>9</td>\n",
              "      <td>15.400000</td>\n",
              "      <td>1214</td>\n",
              "      <td>1</td>\n",
              "      <td>0.444811</td>\n",
              "    </tr>\n",
              "  </tbody>\n",
              "</table>\n",
              "<p>5 rows × 21 columns</p>\n",
              "</div>\n",
              "      <button class=\"colab-df-convert\" onclick=\"convertToInteractive('df-cd31bc13-f4bb-4fee-a731-caee7905beaa')\"\n",
              "              title=\"Convert this dataframe to an interactive table.\"\n",
              "              style=\"display:none;\">\n",
              "        \n",
              "  <svg xmlns=\"http://www.w3.org/2000/svg\" height=\"24px\"viewBox=\"0 0 24 24\"\n",
              "       width=\"24px\">\n",
              "    <path d=\"M0 0h24v24H0V0z\" fill=\"none\"/>\n",
              "    <path d=\"M18.56 5.44l.94 2.06.94-2.06 2.06-.94-2.06-.94-.94-2.06-.94 2.06-2.06.94zm-11 1L8.5 8.5l.94-2.06 2.06-.94-2.06-.94L8.5 2.5l-.94 2.06-2.06.94zm10 10l.94 2.06.94-2.06 2.06-.94-2.06-.94-.94-2.06-.94 2.06-2.06.94z\"/><path d=\"M17.41 7.96l-1.37-1.37c-.4-.4-.92-.59-1.43-.59-.52 0-1.04.2-1.43.59L10.3 9.45l-7.72 7.72c-.78.78-.78 2.05 0 2.83L4 21.41c.39.39.9.59 1.41.59.51 0 1.02-.2 1.41-.59l7.78-7.78 2.81-2.81c.8-.78.8-2.07 0-2.86zM5.41 20L4 18.59l7.72-7.72 1.47 1.35L5.41 20z\"/>\n",
              "  </svg>\n",
              "      </button>\n",
              "      \n",
              "  <style>\n",
              "    .colab-df-container {\n",
              "      display:flex;\n",
              "      flex-wrap:wrap;\n",
              "      gap: 12px;\n",
              "    }\n",
              "\n",
              "    .colab-df-convert {\n",
              "      background-color: #E8F0FE;\n",
              "      border: none;\n",
              "      border-radius: 50%;\n",
              "      cursor: pointer;\n",
              "      display: none;\n",
              "      fill: #1967D2;\n",
              "      height: 32px;\n",
              "      padding: 0 0 0 0;\n",
              "      width: 32px;\n",
              "    }\n",
              "\n",
              "    .colab-df-convert:hover {\n",
              "      background-color: #E2EBFA;\n",
              "      box-shadow: 0px 1px 2px rgba(60, 64, 67, 0.3), 0px 1px 3px 1px rgba(60, 64, 67, 0.15);\n",
              "      fill: #174EA6;\n",
              "    }\n",
              "\n",
              "    [theme=dark] .colab-df-convert {\n",
              "      background-color: #3B4455;\n",
              "      fill: #D2E3FC;\n",
              "    }\n",
              "\n",
              "    [theme=dark] .colab-df-convert:hover {\n",
              "      background-color: #434B5C;\n",
              "      box-shadow: 0px 1px 3px 1px rgba(0, 0, 0, 0.15);\n",
              "      filter: drop-shadow(0px 1px 2px rgba(0, 0, 0, 0.3));\n",
              "      fill: #FFFFFF;\n",
              "    }\n",
              "  </style>\n",
              "\n",
              "      <script>\n",
              "        const buttonEl =\n",
              "          document.querySelector('#df-cd31bc13-f4bb-4fee-a731-caee7905beaa button.colab-df-convert');\n",
              "        buttonEl.style.display =\n",
              "          google.colab.kernel.accessAllowed ? 'block' : 'none';\n",
              "\n",
              "        async function convertToInteractive(key) {\n",
              "          const element = document.querySelector('#df-cd31bc13-f4bb-4fee-a731-caee7905beaa');\n",
              "          const dataTable =\n",
              "            await google.colab.kernel.invokeFunction('convertToInteractive',\n",
              "                                                     [key], {});\n",
              "          if (!dataTable) return;\n",
              "\n",
              "          const docLinkHtml = 'Like what you see? Visit the ' +\n",
              "            '<a target=\"_blank\" href=https://colab.research.google.com/notebooks/data_table.ipynb>data table notebook</a>'\n",
              "            + ' to learn more about interactive tables.';\n",
              "          element.innerHTML = '';\n",
              "          dataTable['output_type'] = 'display_data';\n",
              "          await google.colab.output.renderOutput(dataTable, element);\n",
              "          const docLink = document.createElement('div');\n",
              "          docLink.innerHTML = docLinkHtml;\n",
              "          element.appendChild(docLink);\n",
              "        }\n",
              "      </script>\n",
              "    </div>\n",
              "  </div>\n",
              "  "
            ]
          },
          "metadata": {},
          "execution_count": 20
        }
      ]
    },
    {
      "cell_type": "markdown",
      "source": [
        "###Feature selection\n",
        "* Filter methods\n",
        "* Feature transformation (PCA, LDA, etc)\n",
        "* Wrapper methods"
      ],
      "metadata": {
        "id": "h852KSQL6WBP"
      }
    },
    {
      "cell_type": "code",
      "source": [
        "#filter methods\n",
        "train_corr = train.corr()\n",
        "plt.figure(figsize=(15,10))\n",
        "\n",
        "# We then plot our heatmap visualistion\n",
        "# \n",
        "import seaborn as sns\n",
        "sns.heatmap(train_corr, annot=True, linewidth=0.5, cmap='coolwarm');\n"
      ],
      "metadata": {
        "id": "Z9p0vF216SXb",
        "colab": {
          "base_uri": "https://localhost:8080/",
          "height": 758
        },
        "outputId": "6d3dcc06-472a-4a0e-d9fe-41b892f30f3d"
      },
      "execution_count": 21,
      "outputs": [
        {
          "output_type": "display_data",
          "data": {
            "text/plain": [
              "<Figure size 1080x720 with 2 Axes>"
            ],
            "image/png": "[encoded data removed]"
          },
          "metadata": {
            "needs_background": "light"
          }
        }
      ]
    },
    {
      "cell_type": "code",
      "source": [
        "#there is poor correlation between target and features variable with only distance correlating with delivery time\n",
        "# We then check for modeling with only normalisation\n",
        "# We select our features variable(X) and target variables(y)\n",
        "X = train[['distance_km', 'speed']]\n",
        "y = train['time_from_pickup_to_arrival']\n",
        "\n",
        "# Splitting our dataset \n",
        "X_train, X_test, y_train, y_test = train_test_split(X, y, test_size=.3, random_state = 42) \n",
        "\n",
        "# Performing normalisation \n",
        "norm = MinMaxScaler().fit(X_train) \n",
        "X_train = norm.transform(X_train) \n",
        "X_test = norm.transform(X_test)\n",
        "\n",
        "#create a model object for random forest\n",
        "forest_model = RandomForestRegressor(random_state=42)\n",
        "\n",
        "#train the model using the train dataset\n",
        "forest_model.fit(X_train, y_train)\n",
        "\n",
        "#get a prediction for the target test using the trained model\n",
        "y_prediction = forest_model.predict(X_test)\n",
        "\n",
        "#use RMSE error to evaluate our model\n",
        "print(f'RMSE forest {np.sqrt(mean_squared_error(y_test, y_prediction))}')"
      ],
      "metadata": {
        "colab": {
          "base_uri": "https://localhost:8080/"
        },
        "id": "yWV9PFfu6bb-",
        "outputId": "3f3001b9-409e-45a5-9f7b-1baacca5cac0"
      },
      "execution_count": 22,
      "outputs": [
        {
          "output_type": "stream",
          "name": "stdout",
          "text": [
            "RMSE forest 60.43068020965751\n"
          ]
        }
      ]
    },
    {
      "cell_type": "markdown",
      "source": [
        "### Wrapper Method:Step Forward Feature Selection"
      ],
      "metadata": {
        "id": "lhIJPwR48K0r"
      }
    },
    {
      "cell_type": "code",
      "source": [
        "\n",
        "# importing six and sys\n",
        "import six\n",
        "import sys\n",
        "sys.modules['sklearn.externals.six'] = six\n",
        "\n",
        "# installing mlrose\n",
        "!pip install mlrose\n",
        "import mlrose\n",
        "\n",
        "# importing joblib\n",
        "import joblib\n",
        "sys.modules['sklearn.externals.joblib'] = joblib"
      ],
      "metadata": {
        "colab": {
          "base_uri": "https://localhost:8080/"
        },
        "id": "P77tZ_JR9FQd",
        "outputId": "86a8d5fb-fcda-4491-946f-0a91269179ee"
      },
      "execution_count": 23,
      "outputs": [
        {
          "output_type": "stream",
          "name": "stdout",
          "text": [
            "Looking in indexes: https://pypi.org/simple, https://us-python.pkg.dev/colab-wheels/public/simple/\n",
            "Collecting mlrose\n",
            "  Downloading mlrose-1.3.0-py3-none-any.whl (27 kB)\n",
            "Collecting sklearn\n",
            "  Downloading sklearn-0.0.post1.tar.gz (3.6 kB)\n",
            "Requirement already satisfied: scipy in /usr/local/lib/python3.7/dist-packages (from mlrose) (1.7.3)\n",
            "Requirement already satisfied: numpy in /usr/local/lib/python3.7/dist-packages (from mlrose) (1.21.6)\n",
            "Building wheels for collected packages: sklearn\n",
            "  Building wheel for sklearn (setup.py) ... \u001b[?25l\u001b[?25hdone\n",
            "  Created wheel for sklearn: filename=sklearn-0.0.post1-py3-none-any.whl size=2344 sha256=6441927daffd8e0a675bbc8f6267972c9516c4719aecbb5323b358cf557ea10d\n",
            "  Stored in directory: /root/.cache/pip/wheels/42/56/cc/4a8bf86613aafd5b7f1b310477667c1fca5c51c3ae4124a003\n",
            "Successfully built sklearn\n",
            "Installing collected packages: sklearn, mlrose\n",
            "Successfully installed mlrose-1.3.0 sklearn-0.0.post1\n"
          ]
        }
      ]
    },
    {
      "cell_type": "code",
      "source": [
        "# We select our features variable(X) and target variables(y)\n",
        "X = train.drop(columns=['time_from_pickup_to_arrival'])\n",
        "y = train['time_from_pickup_to_arrival']\n",
        "\n",
        "\n",
        "# Splitting our dataset  \n",
        "X_train, X_test, y_train, y_test = train_test_split(X, y, test_size=.3, random_state = 42)\n",
        "\n",
        "# Performing normalisation \n",
        "norm = MinMaxScaler().fit(X_train) \n",
        "X_train = norm.transform(X_train) \n",
        "X_test = norm.transform(X_test)\n",
        "\n",
        "#create a model object for random forest\n",
        "forest_model = RandomForestRegressor(random_state=42)\n",
        "\n",
        "\n",
        "from mlxtend.feature_selection import SequentialFeatureSelector\n",
        "feature_selector = SequentialFeatureSelector(forest_model,\n",
        "           k_features=4,\n",
        "           forward=True,\n",
        "           verbose=2,\n",
        "           scoring='r2',\n",
        "           cv=4)\n",
        " \n",
        "# Perform step forward feature selection\n",
        "feature_selector = feature_selector.fit(X_train, y_train) "
      ],
      "metadata": {
        "colab": {
          "base_uri": "https://localhost:8080/",
          "height": 0
        },
        "id": "e-zFM5XD8KfZ",
        "outputId": "030becb8-b747-4aaa-85e0-d6d64b3d0880"
      },
      "execution_count": 27,
      "outputs": [
        {
          "output_type": "stream",
          "name": "stderr",
          "text": [
            "[Parallel(n_jobs=1)]: Using backend SequentialBackend with 1 concurrent workers.\n",
            "[Parallel(n_jobs=1)]: Done   1 out of   1 | elapsed:    0.8s remaining:    0.0s\n",
            "[Parallel(n_jobs=1)]: Done  20 out of  20 | elapsed:   26.4s finished\n",
            "\n",
            "[2022-11-18 18:28:07] Features: 1/4 -- score: 0.34369780628105573[Parallel(n_jobs=1)]: Using backend SequentialBackend with 1 concurrent workers.\n",
            "[Parallel(n_jobs=1)]: Done   1 out of   1 | elapsed:    1.3s remaining:    0.0s\n",
            "[Parallel(n_jobs=1)]: Done  19 out of  19 | elapsed:   46.8s finished\n",
            "\n",
            "[2022-11-18 18:28:54] Features: 2/4 -- score: 0.9979649758080766[Parallel(n_jobs=1)]: Using backend SequentialBackend with 1 concurrent workers.\n",
            "[Parallel(n_jobs=1)]: Done   1 out of   1 | elapsed:    6.7s remaining:    0.0s\n",
            "[Parallel(n_jobs=1)]: Done  18 out of  18 | elapsed:  2.5min finished\n",
            "\n",
            "[2022-11-18 18:31:24] Features: 3/4 -- score: 0.9979533004247367[Parallel(n_jobs=1)]: Using backend SequentialBackend with 1 concurrent workers.\n",
            "[Parallel(n_jobs=1)]: Done   1 out of   1 | elapsed:    7.4s remaining:    0.0s\n",
            "[Parallel(n_jobs=1)]: Done  17 out of  17 | elapsed:  2.7min finished\n",
            "\n",
            "[2022-11-18 18:34:07] Features: 4/4 -- score: 0.9979264277441374"
          ]
        }
      ]
    },
    {
      "cell_type": "code",
      "source": [
        "# Which are the selected features?\n",
        "# The columns at these indexes are those which were selected\n",
        "# ---\n",
        "#\n",
        "feat_cols = list(feature_selector.k_feature_idx_)\n",
        "print(feat_cols)"
      ],
      "metadata": {
        "colab": {
          "base_uri": "https://localhost:8080/",
          "height": 0
        },
        "id": "4gRZW33Q_5z8",
        "outputId": "e049ee4c-4f3d-4ea7-9742-072e0bd739e1"
      },
      "execution_count": 28,
      "outputs": [
        {
          "output_type": "stream",
          "name": "stdout",
          "text": [
            "[0, 16, 18, 19]\n"
          ]
        }
      ]
    },
    {
      "cell_type": "code",
      "source": [
        "# We can now use those features to build our model\n",
        "# ---\n",
        "#\n",
        "from sklearn import metrics\n",
        "# Without step forward feature selection (sffs)\n",
        "forest_model = RandomForestRegressor(random_state=42)\n",
        "forest_model.fit(X_train, y_train)\n",
        "\n",
        "# With step forward feature selection\n",
        "forest_model2 = RandomForestRegressor(random_state=42)\n",
        "forest_model2.fit(X_train[:, feat_cols], y_train)\n",
        "\n",
        "# Making Predictions and determining the accuracies\n",
        "y_test_pred = forest_model.predict(X_test)\n",
        "print('Decision Tree RMSE Without sffs:', np.sqrt(metrics.mean_squared_error(y_test, y_test_pred)))\n",
        "\n",
        "y_test_pred2 = forest_model2.predict(X_test[:, feat_cols])\n",
        "print('Decision Tree RMSE with sffs:', np.sqrt(metrics.mean_squared_error(y_test, y_test_pred2)))"
      ],
      "metadata": {
        "colab": {
          "base_uri": "https://localhost:8080/",
          "height": 0
        },
        "id": "qfqc8_EtAccu",
        "outputId": "d73fd0b6-5fd8-464c-be25-0ddf62f7d6e2"
      },
      "execution_count": 29,
      "outputs": [
        {
          "output_type": "stream",
          "name": "stdout",
          "text": [
            "Decision Tree RMSE Without sffs: 72.80746632639435\n",
            "Decision Tree RMSE with sffs: 61.234359089274655\n"
          ]
        }
      ]
    },
    {
      "cell_type": "markdown",
      "source": [
        "###Wrapper Method:Step Backward Feature Selection"
      ],
      "metadata": {
        "id": "jS7qaaYeFBgP"
      }
    },
    {
      "cell_type": "code",
      "source": [
        "# We select our features variable(X) and target variables(y)\n",
        "X = train.drop(columns=['time_from_pickup_to_arrival'])\n",
        "y = train['time_from_pickup_to_arrival']\n",
        "\n",
        "\n",
        "# Splitting our dataset  \n",
        "X_train, X_test, y_train, y_test = train_test_split(X, y, test_size=.3, random_state = 42)\n",
        "\n",
        "# Performing normalisation \n",
        "norm = MinMaxScaler().fit(X_train) \n",
        "X_train = norm.transform(X_train) \n",
        "X_test = norm.transform(X_test)\n",
        "\n",
        "#create a model object for random forest\n",
        "forest_model = RandomForestRegressor(random_state=42)\n",
        "\n",
        "\n",
        "from mlxtend.feature_selection import SequentialFeatureSelector\n",
        "feature_selector = SequentialFeatureSelector(forest_model,\n",
        "           k_features=4,\n",
        "           forward=False,\n",
        "           verbose=2,\n",
        "           scoring='r2',\n",
        "           cv=4)\n",
        " \n",
        "# Perform step forward feature selection\n",
        "feature_selector = feature_selector.fit(X_train, y_train) "
      ],
      "metadata": {
        "colab": {
          "base_uri": "https://localhost:8080/"
        },
        "outputId": "a0f1eb87-a394-452b-c152-6f13c09b771d",
        "id": "UO2E6Fi0E8VG"
      },
      "execution_count": 24,
      "outputs": [
        {
          "output_type": "stream",
          "name": "stderr",
          "text": [
            "[Parallel(n_jobs=1)]: Using backend SequentialBackend with 1 concurrent workers.\n",
            "[Parallel(n_jobs=1)]: Done   1 out of   1 | elapsed:   31.5s remaining:    0.0s\n",
            "[Parallel(n_jobs=1)]: Done  20 out of  20 | elapsed: 10.6min finished\n",
            "\n",
            "[2022-11-19 05:46:38] Features: 19/4 -- score: 0.9961772849688773[Parallel(n_jobs=1)]: Using backend SequentialBackend with 1 concurrent workers.\n",
            "[Parallel(n_jobs=1)]: Done   1 out of   1 | elapsed:   25.1s remaining:    0.0s\n",
            "[Parallel(n_jobs=1)]: Done  19 out of  19 | elapsed:  9.1min finished\n",
            "\n",
            "[2022-11-19 05:55:41] Features: 18/4 -- score: 0.99629253037763[Parallel(n_jobs=1)]: Using backend SequentialBackend with 1 concurrent workers.\n",
            "[Parallel(n_jobs=1)]: Done   1 out of   1 | elapsed:   25.2s remaining:    0.0s\n",
            "[Parallel(n_jobs=1)]: Done  18 out of  18 | elapsed:  8.2min finished\n",
            "\n",
            "[2022-11-19 06:03:50] Features: 17/4 -- score: 0.9963704683479032[Parallel(n_jobs=1)]: Using backend SequentialBackend with 1 concurrent workers.\n",
            "[Parallel(n_jobs=1)]: Done   1 out of   1 | elapsed:   23.6s remaining:    0.0s\n",
            "[Parallel(n_jobs=1)]: Done  17 out of  17 | elapsed:  7.2min finished\n",
            "\n",
            "[2022-11-19 06:11:04] Features: 16/4 -- score: 0.996349565939477[Parallel(n_jobs=1)]: Using backend SequentialBackend with 1 concurrent workers.\n",
            "[Parallel(n_jobs=1)]: Done   1 out of   1 | elapsed:   20.0s remaining:    0.0s\n",
            "[Parallel(n_jobs=1)]: Done  16 out of  16 | elapsed:  6.4min finished\n",
            "\n",
            "[2022-11-19 06:17:30] Features: 15/4 -- score: 0.9964356001948377[Parallel(n_jobs=1)]: Using backend SequentialBackend with 1 concurrent workers.\n",
            "[Parallel(n_jobs=1)]: Done   1 out of   1 | elapsed:   20.4s remaining:    0.0s\n",
            "[Parallel(n_jobs=1)]: Done  15 out of  15 | elapsed:  5.6min finished\n",
            "\n",
            "[2022-11-19 06:23:06] Features: 14/4 -- score: 0.9964742137854414[Parallel(n_jobs=1)]: Using backend SequentialBackend with 1 concurrent workers.\n",
            "[Parallel(n_jobs=1)]: Done   1 out of   1 | elapsed:   18.7s remaining:    0.0s\n",
            "[Parallel(n_jobs=1)]: Done  14 out of  14 | elapsed:  4.9min finished\n",
            "\n",
            "[2022-11-19 06:27:58] Features: 13/4 -- score: 0.9965453887123377[Parallel(n_jobs=1)]: Using backend SequentialBackend with 1 concurrent workers.\n",
            "[Parallel(n_jobs=1)]: Done   1 out of   1 | elapsed:   16.0s remaining:    0.0s\n",
            "[Parallel(n_jobs=1)]: Done  13 out of  13 | elapsed:  4.2min finished\n",
            "\n",
            "[2022-11-19 06:32:11] Features: 12/4 -- score: 0.996733878492855[Parallel(n_jobs=1)]: Using backend SequentialBackend with 1 concurrent workers.\n",
            "[Parallel(n_jobs=1)]: Done   1 out of   1 | elapsed:   12.0s remaining:    0.0s\n",
            "[Parallel(n_jobs=1)]: Done  12 out of  12 | elapsed:  3.5min finished\n",
            "\n",
            "[2022-11-19 06:35:41] Features: 11/4 -- score: 0.9968288544320123[Parallel(n_jobs=1)]: Using backend SequentialBackend with 1 concurrent workers.\n",
            "[Parallel(n_jobs=1)]: Done   1 out of   1 | elapsed:   10.6s remaining:    0.0s\n",
            "[Parallel(n_jobs=1)]: Done  11 out of  11 | elapsed:  2.9min finished\n",
            "\n",
            "[2022-11-19 06:38:35] Features: 10/4 -- score: 0.9969072337283903[Parallel(n_jobs=1)]: Using backend SequentialBackend with 1 concurrent workers.\n",
            "[Parallel(n_jobs=1)]: Done   1 out of   1 | elapsed:    8.2s remaining:    0.0s\n",
            "[Parallel(n_jobs=1)]: Done  10 out of  10 | elapsed:  2.3min finished\n",
            "\n",
            "[2022-11-19 06:40:53] Features: 9/4 -- score: 0.997438904855108[Parallel(n_jobs=1)]: Using backend SequentialBackend with 1 concurrent workers.\n",
            "[Parallel(n_jobs=1)]: Done   1 out of   1 | elapsed:    3.8s remaining:    0.0s\n",
            "[Parallel(n_jobs=1)]: Done   9 out of   9 | elapsed:  1.7min finished\n",
            "\n",
            "[2022-11-19 06:42:34] Features: 8/4 -- score: 0.997454830233438[Parallel(n_jobs=1)]: Using backend SequentialBackend with 1 concurrent workers.\n",
            "[Parallel(n_jobs=1)]: Done   1 out of   1 | elapsed:    3.2s remaining:    0.0s\n",
            "[Parallel(n_jobs=1)]: Done   8 out of   8 | elapsed:  1.4min finished\n",
            "\n",
            "[2022-11-19 06:43:59] Features: 7/4 -- score: 0.9975265083006737[Parallel(n_jobs=1)]: Using backend SequentialBackend with 1 concurrent workers.\n",
            "[Parallel(n_jobs=1)]: Done   1 out of   1 | elapsed:    3.6s remaining:    0.0s\n",
            "[Parallel(n_jobs=1)]: Done   7 out of   7 | elapsed:  1.1min finished\n",
            "\n",
            "[2022-11-19 06:45:08] Features: 6/4 -- score: 0.9975076491921185[Parallel(n_jobs=1)]: Using backend SequentialBackend with 1 concurrent workers.\n",
            "[Parallel(n_jobs=1)]: Done   1 out of   1 | elapsed:    2.7s remaining:    0.0s\n",
            "[Parallel(n_jobs=1)]: Done   6 out of   6 | elapsed:   53.3s finished\n",
            "\n",
            "[2022-11-19 06:46:01] Features: 5/4 -- score: 0.9975281427312618[Parallel(n_jobs=1)]: Using backend SequentialBackend with 1 concurrent workers.\n",
            "[Parallel(n_jobs=1)]: Done   1 out of   1 | elapsed:    2.4s remaining:    0.0s\n",
            "[Parallel(n_jobs=1)]: Done   5 out of   5 | elapsed:   38.8s finished\n",
            "\n",
            "[2022-11-19 06:46:40] Features: 4/4 -- score: 0.997637911712341"
          ]
        }
      ]
    },
    {
      "cell_type": "code",
      "source": [],
      "metadata": {
        "id": "Me-5ncVcFVb9"
      },
      "execution_count": null,
      "outputs": []
    },
    {
      "cell_type": "code",
      "source": [
        "# Which are the selected features?\n",
        "# The columns at these indexes are those which were selected\n",
        "# ---\n",
        "#\n",
        "feat_cols = list(feature_selector.k_feature_idx_)\n",
        "print(feat_cols)"
      ],
      "metadata": {
        "colab": {
          "base_uri": "https://localhost:8080/"
        },
        "outputId": "70bd3e46-6e3c-4679-f4fb-f5547c260b3a",
        "id": "FwdWZUO5FbtQ"
      },
      "execution_count": 25,
      "outputs": [
        {
          "output_type": "stream",
          "name": "stdout",
          "text": [
            "[5, 16, 18, 19]\n"
          ]
        }
      ]
    },
    {
      "cell_type": "code",
      "source": [
        "# We can now use those features to build our model\n",
        "# ---\n",
        "# Without step backwards feature selection (sffs)\n",
        "from sklearn import metrics\n",
        "forest_model = RandomForestRegressor(random_state=42)\n",
        "forest_model.fit(X_train, y_train)\n",
        "\n",
        "# With step forward feature selection\n",
        "forest_model2 = RandomForestRegressor(random_state=42)\n",
        "forest_model2.fit(X_train[:, feat_cols], y_train)\n",
        "\n",
        "# Making Predictions and determining the accuracies\n",
        "y_test_pred = forest_model.predict(X_test)\n",
        "print('Decision Tree RMSE Without sffs:', np.sqrt(metrics.mean_squared_error(y_test, y_test_pred)))\n",
        "\n",
        "y_test_pred2 = forest_model2.predict(X_test[:, feat_cols])\n",
        "print('Decision Tree RMSE with sffs:', np.sqrt(metrics.mean_squared_error(y_test, y_test_pred2)))"
      ],
      "metadata": {
        "colab": {
          "base_uri": "https://localhost:8080/"
        },
        "id": "NLGZosFdFdnC",
        "outputId": "b1f02791-54d0-4d5d-a7c4-faa5202a357c"
      },
      "execution_count": 27,
      "outputs": [
        {
          "output_type": "stream",
          "name": "stdout",
          "text": [
            "Decision Tree RMSE Without sffs: 72.80746632639435\n",
            "Decision Tree RMSE with sffs: 64.04308420331985\n"
          ]
        }
      ]
    },
    {
      "cell_type": "markdown",
      "source": [
        "###Recursive Feature Elimination"
      ],
      "metadata": {
        "id": "F8Zjol-Qq16m"
      }
    },
    {
      "cell_type": "code",
      "source": [
        "# First, we then perform modeling with both standardisation and normalisation.\n",
        "# We will use this as our base for our solution, then perform feature engineering \n",
        "# by filter methods.\n",
        "# ---\n",
        "\n",
        "# We select our features variable(X) and target variables(y)\n",
        "X = train.drop(columns=['time_from_pickup_to_arrival'])\n",
        "y = train['time_from_pickup_to_arrival']\n",
        "\n",
        "\n",
        "# Splitting our dataset  \n",
        "X_train, X_test, y_train, y_test = train_test_split(X, y, test_size=.3, random_state = 42)\n",
        "\n",
        "# Performing normalisation \n",
        "norm = MinMaxScaler().fit(X_train) \n",
        "X_train = norm.transform(X_train) \n",
        "X_test = norm.transform(X_test)\n",
        "\n",
        "# Fitting in our models   \n",
        "#create a model object for random forest\n",
        "forest_model = RandomForestRegressor(random_state=42)\n",
        "\n",
        "\n",
        "# We want to select the best 2 features for our model. \n",
        "# NB: n_features_to_select will include the response variable\n",
        "# ---\n",
        "#  \n",
        "from sklearn.feature_selection import RFE\n",
        "forest_model = RFE(forest_model, n_features_to_select = 3, step=1)\n",
        "\n",
        "forest_model.fit(X_train, y_train)\n",
        "\n",
        "# Making Predictions  \n",
        "forest_y_pred =forest_model.predict(X_test)\n",
        "\n",
        "# Finally, evaluate our model  \n",
        "print('forest  RMSE:', np.sqrt(metrics.mean_squared_error(y_test, forest_y_pred)))\n",
        " \n",
        "# Displaying our best features\n",
        "print('forest Selected features: %s' % list(X.columns[forest_model.support_]))"
      ],
      "metadata": {
        "colab": {
          "base_uri": "https://localhost:8080/"
        },
        "id": "v3zmCfDFq3tB",
        "outputId": "0fca322f-f55f-45a0-a241-586034b233a5"
      },
      "execution_count": 28,
      "outputs": [
        {
          "output_type": "stream",
          "name": "stdout",
          "text": [
            "forest  RMSE: 64.89446526519933\n",
            "forest Selected features: ['arrival_at_destination__day_of_month', 'distance_km', 'speed']\n"
          ]
        }
      ]
    },
    {
      "cell_type": "markdown",
      "metadata": {
        "id": "cpmGSOOqIMrt"
      },
      "source": [
        "### 5.b) Recommendations"
      ]
    },
    {
      "cell_type": "markdown",
      "metadata": {
        "id": "wDn2whdV0Zcg"
      },
      "source": [
        "From the above analysis, \n",
        "* we have found using feature engineering greatly improve the prediction model. we found a few features to be correlated with the delivery time which are 'distance_km', 'speed'.\n",
        "* the best model is when you only consider 'distance_km'\n",
        "\n",
        "\n",
        "\n"
      ]
    },
    {
      "cell_type": "markdown",
      "metadata": {
        "id": "noZz5YRQXKzi"
      },
      "source": [
        "## 6. Challenging your Solution"
      ]
    },
    {
      "cell_type": "markdown",
      "source": [
        "> only one features was higly correlated with target. more variable needs that correlate with delivery time\n",
        ">"
      ],
      "metadata": {
        "id": "KLnadeMg80Wv"
      }
    },
    {
      "cell_type": "markdown",
      "metadata": {
        "id": "xrmHVMVsVS--"
      },
      "source": [
        "## 7. Follow up questions"
      ]
    },
    {
      "cell_type": "markdown",
      "metadata": {
        "id": "pth2qSWhuBIy"
      },
      "source": [
        "more variable for predicting the target are needed"
      ]
    },
    {
      "cell_type": "markdown",
      "metadata": {
        "id": "HPQviDmNtta8"
      },
      "source": [
        "### a). Did we have the right data?\n",
        "> more variable for predicting the target are needed"
      ]
    },
    {
      "cell_type": "markdown",
      "metadata": {
        "id": "qjFHK1CKty7o"
      },
      "source": [
        "### b). Do we need other data to answer our question?"
      ]
    },
    {
      "cell_type": "markdown",
      "metadata": {
        "id": "SyJMFjvmKePc"
      },
      "source": [
        "\n",
        "\n",
        "> more variable for predicting the target are needed\n",
        "\n",
        "\n",
        "\n"
      ]
    },
    {
      "cell_type": "markdown",
      "metadata": {
        "id": "HSsicSdvt4Zs"
      },
      "source": [
        "### c). Did we have the right question?"
      ]
    },
    {
      "cell_type": "markdown",
      "metadata": {
        "id": "DvVFZGvNKfSv"
      },
      "source": [
        "\n",
        "\n",
        "> YES\n",
        "\n",
        "\n",
        "\n",
        "\n",
        "\n"
      ]
    }
  ]
}